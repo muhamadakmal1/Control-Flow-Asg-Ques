{
  "cells": [
    {
      "cell_type": "markdown",
      "id": "07513b24-e66f-4ff9-b4ba-28e49696329a",
      "metadata": {
        "jp-MarkdownHeadingCollapsed": true,
        "id": "07513b24-e66f-4ff9-b4ba-28e49696329a"
      },
      "source": [
        "# Basic If-Else Statements:"
      ]
    },
    {
      "cell_type": "markdown",
      "id": "a38c00c8-d986-4003-bc53-4342609541bf",
      "metadata": {
        "id": "a38c00c8-d986-4003-bc53-4342609541bf"
      },
      "source": [
        "**Q1  Write a Python program to check if a given number is positive or negative.**"
      ]
    },
    {
      "cell_type": "code",
      "execution_count": null,
      "id": "abc67763-042b-488a-9769-24873a110c5d",
      "metadata": {
        "id": "abc67763-042b-488a-9769-24873a110c5d",
        "outputId": "e4d2d255-1eca-4975-a7eb-f6d17d8ba91c"
      },
      "outputs": [
        {
          "name": "stdin",
          "output_type": "stream",
          "text": [
            "Enter a number:  -2\n"
          ]
        },
        {
          "name": "stdout",
          "output_type": "stream",
          "text": [
            "The number is negative.\n"
          ]
        }
      ],
      "source": [
        "def check_number(n):\n",
        "    if n > 0:\n",
        "        print(\"The number is positive.\")\n",
        "    elif n < 0:\n",
        "        print(\"The number is negative.\")\n",
        "    else:\n",
        "        print(\"The number is zero.\")\n",
        "\n",
        "# Test the function\n",
        "number = float(input(\"Enter a number: \"))\n",
        "check_number(number)\n"
      ]
    },
    {
      "cell_type": "markdown",
      "id": "28c695a0-1c23-46cc-b3b7-12489bdd7f97",
      "metadata": {
        "id": "28c695a0-1c23-46cc-b3b7-12489bdd7f97"
      },
      "source": [
        "**Q2. Create a program that determines if a person is eligible to vote based on their age.**"
      ]
    },
    {
      "cell_type": "code",
      "execution_count": null,
      "id": "465dd26d-2f5e-4500-8596-df5c89ed9100",
      "metadata": {
        "id": "465dd26d-2f5e-4500-8596-df5c89ed9100",
        "outputId": "b6a59337-0b99-4ded-fee1-6c30fc94c61a"
      },
      "outputs": [
        {
          "name": "stdin",
          "output_type": "stream",
          "text": [
            "Enter your age:  14\n"
          ]
        },
        {
          "name": "stdout",
          "output_type": "stream",
          "text": [
            "You are not eligible to vote yet.\n"
          ]
        }
      ],
      "source": [
        "def check_voting_eligibility(age):\n",
        "    if age >= 18:\n",
        "        print(\"You are eligible to vote.\")\n",
        "    else:\n",
        "        print(\"You are not eligible to vote yet.\")\n",
        "\n",
        "# Test the function\n",
        "try:\n",
        "    age = int(input(\"Enter your age: \"))\n",
        "    if age < 0:\n",
        "        print(\"Please enter a valid age.\")\n",
        "    else:\n",
        "        check_voting_eligibility(age)\n",
        "except ValueError:\n",
        "    print(\"Please enter a valid age as a number.\")\n"
      ]
    },
    {
      "cell_type": "markdown",
      "id": "8e411643-b0bb-469f-80fd-97b0f7c01d01",
      "metadata": {
        "id": "8e411643-b0bb-469f-80fd-97b0f7c01d01"
      },
      "source": [
        "**Q3. Develop a program to find the maximum of two numbers using if-else statements.**"
      ]
    },
    {
      "cell_type": "code",
      "execution_count": null,
      "id": "42d449f2-b114-41bc-82fc-b65c6c828486",
      "metadata": {
        "id": "42d449f2-b114-41bc-82fc-b65c6c828486",
        "outputId": "41080999-39f6-4487-d89c-528711043424"
      },
      "outputs": [
        {
          "name": "stdin",
          "output_type": "stream",
          "text": [
            "Enter the first number:  3.4\n",
            "Enter the second number:  34\n"
          ]
        },
        {
          "name": "stdout",
          "output_type": "stream",
          "text": [
            "The maximum of the two numbers is: 34.0\n"
          ]
        }
      ],
      "source": [
        "def find_maximum(num1, num2):\n",
        "    if num1 > num2:\n",
        "        return num1\n",
        "    else:\n",
        "        return num2\n",
        "\n",
        "# Test the function\n",
        "try:\n",
        "    num1 = float(input(\"Enter the first number: \"))\n",
        "    num2 = float(input(\"Enter the second number: \"))\n",
        "    maximum = find_maximum(num1, num2)\n",
        "    print(\"The maximum of the two numbers is:\", maximum)\n",
        "except ValueError:\n",
        "    print(\"Please enter valid numbers.\")\n"
      ]
    },
    {
      "cell_type": "markdown",
      "id": "62fbacee-bced-42b4-be36-57b402340018",
      "metadata": {
        "id": "62fbacee-bced-42b4-be36-57b402340018"
      },
      "source": [
        " **Q4. Write a Python script to classify a given year as a leap year or not.**"
      ]
    },
    {
      "cell_type": "code",
      "execution_count": null,
      "id": "6a6c0010-4ab1-464b-ade2-a66e52fc1cb2",
      "metadata": {
        "id": "6a6c0010-4ab1-464b-ade2-a66e52fc1cb2",
        "outputId": "f1e8e1b7-f55b-49e0-84f8-fbe3b5adca71"
      },
      "outputs": [
        {
          "name": "stdin",
          "output_type": "stream",
          "text": [
            "Enter a year:  7\n"
          ]
        },
        {
          "name": "stdout",
          "output_type": "stream",
          "text": [
            "7 is not a leap year.\n"
          ]
        }
      ],
      "source": [
        "def is_leap_year(year):\n",
        "    if (year % 4 == 0 and year % 100 != 0) or (year % 400 == 0):\n",
        "        return True\n",
        "    else:\n",
        "        return False\n",
        "\n",
        "# Test the function\n",
        "try:\n",
        "    year = int(input(\"Enter a year: \"))\n",
        "    if year < 0:\n",
        "        print(\"Please enter a valid year.\")\n",
        "    elif is_leap_year(year):\n",
        "        print(year, \"is a leap year.\")\n",
        "    else:\n",
        "        print(year, \"is not a leap year.\")\n",
        "except ValueError:\n",
        "    print(\"Please enter a valid year as a number.\")\n"
      ]
    },
    {
      "cell_type": "markdown",
      "id": "e79fb1ea-8f5d-47ce-b55c-593a3da37867",
      "metadata": {
        "id": "e79fb1ea-8f5d-47ce-b55c-593a3da37867"
      },
      "source": [
        " **Q5.Create a program that checks whether a character is a vowel or a consonant.**"
      ]
    },
    {
      "cell_type": "code",
      "execution_count": null,
      "id": "0f95713a-fd33-4120-8d72-99c0c910ecc5",
      "metadata": {
        "id": "0f95713a-fd33-4120-8d72-99c0c910ecc5",
        "outputId": "b3786cb3-d954-41b5-92b9-abd601eca2b4"
      },
      "outputs": [
        {
          "name": "stdin",
          "output_type": "stream",
          "text": [
            "Enter a character:  y\n"
          ]
        },
        {
          "name": "stdout",
          "output_type": "stream",
          "text": [
            "The character 'y' is a Consonant.\n"
          ]
        }
      ],
      "source": [
        "def check_vowel_or_consonant(char):\n",
        "    # Convert the character to lowercase to handle both cases\n",
        "    char = char.lower()\n",
        "\n",
        "    # Check if the character is a vowel\n",
        "    if char in ['a', 'e', 'i', 'o', 'u']:\n",
        "        return \"Vowel\"\n",
        "    # Check if the character is a consonant\n",
        "    elif char.isalpha():\n",
        "        return \"Consonant\"\n",
        "    else:\n",
        "        return \"Not a letter\"\n",
        "\n",
        "# Test the function\n",
        "try:\n",
        "    character = input(\"Enter a character: \")\n",
        "    if len(character) == 1:\n",
        "        result = check_vowel_or_consonant(character)\n",
        "        print(f\"The character '{character}' is a {result}.\")\n",
        "    else:\n",
        "        print(\"Please enter only one character.\")\n",
        "except ValueError:\n",
        "    print(\"Please enter a valid character.\")\n"
      ]
    },
    {
      "cell_type": "markdown",
      "id": "96e67089-48fa-45ab-950a-78f6531a35da",
      "metadata": {
        "id": "96e67089-48fa-45ab-950a-78f6531a35da"
      },
      "source": [
        "**Q6.Implement a program to determine whether a given number is even or odd.**"
      ]
    },
    {
      "cell_type": "code",
      "execution_count": null,
      "id": "4ce12968-30e9-4427-86ec-d219f99be59e",
      "metadata": {
        "id": "4ce12968-30e9-4427-86ec-d219f99be59e",
        "outputId": "280734fa-fa41-4b3f-e92a-5f81ece43b1f"
      },
      "outputs": [
        {
          "name": "stdin",
          "output_type": "stream",
          "text": [
            "Enter a number:  6\n"
          ]
        },
        {
          "name": "stdout",
          "output_type": "stream",
          "text": [
            "The number 6 is even.\n"
          ]
        }
      ],
      "source": [
        "def check_even_or_odd(number):\n",
        "    if number % 2 == 0:\n",
        "        return \"even\"\n",
        "    else:\n",
        "        return \"odd\"\n",
        "\n",
        "# Test the function\n",
        "try:\n",
        "    num = int(input(\"Enter a number: \"))\n",
        "    result = check_even_or_odd(num)\n",
        "    print(f\"The number {num} is {result}.\")\n",
        "except ValueError:\n",
        "    print(\"Please enter a valid number.\")\n"
      ]
    },
    {
      "cell_type": "markdown",
      "id": "63cc394d-2de6-4ff4-b60b-f5e8a91fa131",
      "metadata": {
        "id": "63cc394d-2de6-4ff4-b60b-f5e8a91fa131"
      },
      "source": [
        "**Q7. Write a Python function to calculate the absolute value of a number without using the `abs()` function.**"
      ]
    },
    {
      "cell_type": "code",
      "execution_count": null,
      "id": "6e8d71ab-ddc8-422f-ad45-39d7d60584e4",
      "metadata": {
        "id": "6e8d71ab-ddc8-422f-ad45-39d7d60584e4",
        "outputId": "062ccc33-0325-4388-a742-dc2ead42c62a"
      },
      "outputs": [
        {
          "name": "stdin",
          "output_type": "stream",
          "text": [
            "Enter a number:  -89\n"
          ]
        },
        {
          "name": "stdout",
          "output_type": "stream",
          "text": [
            "Absolute value of -89.0 is 89.0\n"
          ]
        }
      ],
      "source": [
        "def absolute_value(num):\n",
        "    if num >= 0:\n",
        "        return num\n",
        "    else:\n",
        "        return -num\n",
        "\n",
        "# Test the function\n",
        "try:\n",
        "    number = float(input(\"Enter a number: \"))\n",
        "    print(\"Absolute value of\", number, \"is\", absolute_value(number))\n",
        "except ValueError:\n",
        "    print(\"Please enter a valid number.\")\n"
      ]
    },
    {
      "cell_type": "markdown",
      "id": "fd5f2310-d2f6-46d8-8192-d156712353a3",
      "metadata": {
        "id": "fd5f2310-d2f6-46d8-8192-d156712353a3"
      },
      "source": [
        "**Q8 Develop a program that determines the largest of three given numbers using if-else statements.**"
      ]
    },
    {
      "cell_type": "code",
      "execution_count": null,
      "id": "a77958c2-c5ad-4a93-8085-ff11e298115f",
      "metadata": {
        "id": "a77958c2-c5ad-4a93-8085-ff11e298115f",
        "outputId": "5860d2b0-0ad0-402f-9ee0-54769d230dc4"
      },
      "outputs": [
        {
          "name": "stdin",
          "output_type": "stream",
          "text": [
            "Enter the first number:  6\n",
            "Enter the second number:  7\n",
            "Enter the third number:  8\n"
          ]
        },
        {
          "name": "stdout",
          "output_type": "stream",
          "text": [
            "The largest of the three numbers is: 8.0\n"
          ]
        }
      ],
      "source": [
        "def find_largest(num1, num2, num3):\n",
        "    if num1 >= num2 and num1 >= num3:\n",
        "        return num1\n",
        "    elif num2 >= num1 and num2 >= num3:\n",
        "        return num2\n",
        "    else:\n",
        "        return num3\n",
        "\n",
        "# Test the function\n",
        "try:\n",
        "    num1 = float(input(\"Enter the first number: \"))\n",
        "    num2 = float(input(\"Enter the second number: \"))\n",
        "    num3 = float(input(\"Enter the third number: \"))\n",
        "\n",
        "    largest = find_largest(num1, num2, num3)\n",
        "    print(\"The largest of the three numbers is:\", largest)\n",
        "except ValueError:\n",
        "    print(\"Please enter valid numbers.\")\n"
      ]
    },
    {
      "cell_type": "markdown",
      "id": "cc740a4c-1f43-47a4-9d74-d7601cbe6cb0",
      "metadata": {
        "id": "cc740a4c-1f43-47a4-9d74-d7601cbe6cb0"
      },
      "source": [
        "**Q9. Create a program that checks if a given string is a palindrome.**"
      ]
    },
    {
      "cell_type": "code",
      "execution_count": null,
      "id": "8d4f84ab-2987-4862-8c89-53864e762585",
      "metadata": {
        "id": "8d4f84ab-2987-4862-8c89-53864e762585",
        "outputId": "914cc0d6-9af3-4b46-d041-0cc075d4b475"
      },
      "outputs": [
        {
          "name": "stdin",
          "output_type": "stream",
          "text": [
            "Enter a string:  Go\n"
          ]
        },
        {
          "name": "stdout",
          "output_type": "stream",
          "text": [
            "'Go' is not a palindrome.\n"
          ]
        }
      ],
      "source": [
        "def is_palindrome(s):\n",
        "    # Remove spaces and convert to lowercase\n",
        "    s = s.replace(\" \", \"\").lower()\n",
        "    # Compare original string with its reverse\n",
        "    return s == s[::-1]\n",
        "\n",
        "# Test the function\n",
        "try:\n",
        "    string = input(\"Enter a string: \")\n",
        "    if is_palindrome(string):\n",
        "        print(f\"'{string}' is a palindrome.\")\n",
        "    else:\n",
        "        print(f\"'{string}' is not a palindrome.\")\n",
        "except ValueError:\n",
        "    print(\"Please enter a valid string.\")\n"
      ]
    },
    {
      "cell_type": "markdown",
      "id": "9bfc0ed3-8dd2-4f5f-97f7-1ecae1cdbe8c",
      "metadata": {
        "id": "9bfc0ed3-8dd2-4f5f-97f7-1ecae1cdbe8c"
      },
      "source": [
        "**Q10. Write a Python program to calculate the grade based on a student's score.**"
      ]
    },
    {
      "cell_type": "code",
      "execution_count": null,
      "id": "45ec2ea3-a883-4387-8eb9-6c9cf3596cfc",
      "metadata": {
        "id": "45ec2ea3-a883-4387-8eb9-6c9cf3596cfc",
        "outputId": "e72a187d-0183-458e-86ad-e4cf70ca6725"
      },
      "outputs": [
        {
          "name": "stdin",
          "output_type": "stream",
          "text": [
            "Enter the student's score:  80\n"
          ]
        },
        {
          "name": "stdout",
          "output_type": "stream",
          "text": [
            "The student's grade is: B\n"
          ]
        }
      ],
      "source": [
        "def calculate_grade(score):\n",
        "    if score >= 90:\n",
        "        return 'A'\n",
        "    elif score >= 80:\n",
        "        return 'B'\n",
        "    elif score >= 70:\n",
        "        return 'C'\n",
        "    elif score >= 60:\n",
        "        return 'D'\n",
        "    else:\n",
        "        return 'F'\n",
        "\n",
        "try:\n",
        "    score = float(input(\"Enter the student's score: \"))\n",
        "    if score < 0 or score > 100:\n",
        "        print(\"Please enter a valid score between 0 and 100.\")\n",
        "    else:\n",
        "        grade = calculate_grade(score)\n",
        "        print(f\"The student's grade is: {grade}\")\n",
        "except ValueError:\n",
        "    print(\"Please enter a valid numerical score.\")\n"
      ]
    },
    {
      "cell_type": "markdown",
      "id": "f1ee34f2-4337-410f-ae31-433cbe462c3c",
      "metadata": {
        "jp-MarkdownHeadingCollapsed": true,
        "id": "f1ee34f2-4337-410f-ae31-433cbe462c3c"
      },
      "source": [
        "# Nested If-Else Statements:"
      ]
    },
    {
      "cell_type": "markdown",
      "id": "68439d7e-de32-46a2-b749-5c9453acd366",
      "metadata": {
        "id": "68439d7e-de32-46a2-b749-5c9453acd366"
      },
      "source": [
        "**Q11.  Write a program to find the largest among three numbers using nested if-else statements.**"
      ]
    },
    {
      "cell_type": "code",
      "execution_count": null,
      "id": "7b6dfd64-dd5d-4846-a1db-b852b927ef8e",
      "metadata": {
        "id": "7b6dfd64-dd5d-4846-a1db-b852b927ef8e",
        "outputId": "d46bbe7d-7635-467d-9169-889d867860b7"
      },
      "outputs": [
        {
          "name": "stdin",
          "output_type": "stream",
          "text": [
            "Enter the first number:  7\n",
            "Enter the second number:  3\n",
            "Enter the third number:  4\n"
          ]
        },
        {
          "name": "stdout",
          "output_type": "stream",
          "text": [
            "The largest of the three numbers is: 7.0\n"
          ]
        }
      ],
      "source": [
        "def find_largest(num1, num2, num3):\n",
        "    if num1 >= num2:\n",
        "        if num1 >= num3:\n",
        "            return num1\n",
        "        else:\n",
        "            return num3\n",
        "    else:\n",
        "        if num2 >= num3:\n",
        "            return num2\n",
        "        else:\n",
        "            return num3\n",
        "\n",
        "# Test the function\n",
        "try:\n",
        "    num1 = float(input(\"Enter the first number: \"))\n",
        "    num2 = float(input(\"Enter the second number: \"))\n",
        "    num3 = float(input(\"Enter the third number: \"))\n",
        "\n",
        "    largest = find_largest(num1, num2, num3)\n",
        "    print(\"The largest of the three numbers is:\", largest)\n",
        "except ValueError:\n",
        "    print(\"Please enter valid numbers.\")\n"
      ]
    },
    {
      "cell_type": "markdown",
      "id": "72abd161-266d-4a36-bc6a-3c4497829060",
      "metadata": {
        "id": "72abd161-266d-4a36-bc6a-3c4497829060"
      },
      "source": [
        " **Q12. Implement a program to determine if a triangle is equilateral, isosceles, or scalene.**"
      ]
    },
    {
      "cell_type": "code",
      "execution_count": null,
      "id": "66e67535-a0a5-4c49-a925-b902445c5b2f",
      "metadata": {
        "id": "66e67535-a0a5-4c49-a925-b902445c5b2f",
        "outputId": "2d85972a-e006-427c-c0b2-0af2d9484147"
      },
      "outputs": [
        {
          "name": "stdin",
          "output_type": "stream",
          "text": [
            "Enter the length of the first side:  61\n",
            "Enter the length of the second side:  57\n",
            "Enter the length of the third side:  78\n"
          ]
        },
        {
          "name": "stdout",
          "output_type": "stream",
          "text": [
            "The triangle is Scalene\n"
          ]
        }
      ],
      "source": [
        "def triangle_type(side1, side2, side3):\n",
        "    if side1 == side2:\n",
        "        if side1 == side3:\n",
        "            return \"Equilateral\"\n",
        "        else:\n",
        "            return \"Isosceles\"\n",
        "    else:\n",
        "        if side1 == side3 or side2 == side3:\n",
        "            return \"Isosceles\"\n",
        "        else:\n",
        "            return \"Scalene\"\n",
        "\n",
        "# Input lengths of sides from the user\n",
        "try:\n",
        "    side1 = float(input(\"Enter the length of the first side: \"))\n",
        "    side2 = float(input(\"Enter the length of the second side: \"))\n",
        "    side3 = float(input(\"Enter the length of the third side: \"))\n",
        "\n",
        "    # Check if the entered lengths form a valid triangle\n",
        "    if side1 + side2 > side3 and side1 + side3 > side2 and side2 + side3 > side1:\n",
        "        # Determine the type of triangle\n",
        "        triangle = triangle_type(side1, side2, side3)\n",
        "        print(\"The triangle is\", triangle)\n",
        "    else:\n",
        "        print(\"The given lengths do not form a valid triangle.\")\n",
        "except ValueError:\n",
        "    print(\"Please enter valid numerical values for the lengths of the sides.\")\n"
      ]
    },
    {
      "cell_type": "markdown",
      "id": "21e608ac-7396-4879-84d5-b934a884e996",
      "metadata": {
        "id": "21e608ac-7396-4879-84d5-b934a884e996"
      },
      "source": [
        "**Q13. Develop a program that checks if a year is a leap year and also if it is a century year.**"
      ]
    },
    {
      "cell_type": "code",
      "execution_count": null,
      "id": "65d5e411-343e-4037-b64d-86dfd7194dc1",
      "metadata": {
        "id": "65d5e411-343e-4037-b64d-86dfd7194dc1",
        "outputId": "11192345-13ca-4ee7-da44-1d85790ad72e"
      },
      "outputs": [
        {
          "name": "stdin",
          "output_type": "stream",
          "text": [
            "Enter a year:  7890\n"
          ]
        },
        {
          "name": "stdout",
          "output_type": "stream",
          "text": [
            "7890 is not a leap year.\n",
            "7890 is not a century year.\n"
          ]
        }
      ],
      "source": [
        "def is_leap_year(year):\n",
        "    if year % 4 == 0:\n",
        "        if year % 100 == 0:\n",
        "            if year % 400 == 0:\n",
        "                return True  # Divisible by 400, so it's a leap year\n",
        "            else:\n",
        "                return False  # Divisible by 100 but not by 400, so it's not a leap year\n",
        "        else:\n",
        "            return True  # Divisible by 4 but not by 100, so it's a leap year\n",
        "    else:\n",
        "        return False  # Not divisible by 4, so it's not a leap year\n",
        "\n",
        "def is_century_year(year):\n",
        "    return year % 100 == 0\n",
        "\n",
        "try:\n",
        "    year = int(input(\"Enter a year: \"))\n",
        "    if year < 0:\n",
        "        print(\"Please enter a valid positive year.\")\n",
        "    else:\n",
        "        if is_leap_year(year):\n",
        "            print(f\"{year} is a leap year.\")\n",
        "        else:\n",
        "            print(f\"{year} is not a leap year.\")\n",
        "\n",
        "        if is_century_year(year):\n",
        "            print(f\"{year} is a century year.\")\n",
        "        else:\n",
        "            print(f\"{year} is not a century year.\")\n",
        "except ValueError:\n",
        "    print(\"Please enter a valid year as an integer.\")\n"
      ]
    },
    {
      "cell_type": "markdown",
      "id": "1e7171af-1b89-47a2-a000-480277a934db",
      "metadata": {
        "id": "1e7171af-1b89-47a2-a000-480277a934db"
      },
      "source": [
        "**Q14 Write a Python script to determine if a number is positive, negative, or zero**"
      ]
    },
    {
      "cell_type": "code",
      "execution_count": null,
      "id": "e09b1600-5315-4009-ab55-5c9679db85bc",
      "metadata": {
        "id": "e09b1600-5315-4009-ab55-5c9679db85bc",
        "outputId": "5a3423de-a6ad-4996-b7b5-c56bc241199c"
      },
      "outputs": [
        {
          "name": "stdin",
          "output_type": "stream",
          "text": [
            "Enter a number:  5\n"
          ]
        },
        {
          "name": "stdout",
          "output_type": "stream",
          "text": [
            "The number is positive.\n"
          ]
        }
      ],
      "source": [
        "def check_number(n):\n",
        "    if n > 0:\n",
        "        print(\"The number is positive.\")\n",
        "    else:\n",
        "        if n < 0:\n",
        "            print(\"The number is negative.\")\n",
        "        else:\n",
        "            print(\"The number is zero.\")\n",
        "\n",
        "try:\n",
        "    number = float(input(\"Enter a number: \"))\n",
        "    check_number(number)\n",
        "except ValueError:\n",
        "    print(\"Please enter a valid number.\")\n"
      ]
    },
    {
      "cell_type": "markdown",
      "id": "a3fa9bf2-dfa3-4ad9-9c6b-0d2177b7887f",
      "metadata": {
        "id": "a3fa9bf2-dfa3-4ad9-9c6b-0d2177b7887f"
      },
      "source": [
        "**Q15. Create a program to check if a person is a teenager (between 13 and 19 years old).**"
      ]
    },
    {
      "cell_type": "code",
      "execution_count": null,
      "id": "95c61a7e-2dcb-44fb-a8a2-09a41d237ef5",
      "metadata": {
        "id": "95c61a7e-2dcb-44fb-a8a2-09a41d237ef5",
        "outputId": "f5a2f901-1b56-4a0d-b292-7476acaf83f5"
      },
      "outputs": [
        {
          "name": "stdin",
          "output_type": "stream",
          "text": [
            "Enter your age:  12\n"
          ]
        },
        {
          "name": "stdout",
          "output_type": "stream",
          "text": [
            "You are not a teenager.\n"
          ]
        }
      ],
      "source": [
        "def is_teenager(age):\n",
        "    if age >= 13:\n",
        "        if age <= 19:\n",
        "            return True\n",
        "        else:\n",
        "            return False\n",
        "    else:\n",
        "        return False\n",
        "\n",
        "try:\n",
        "    age = int(input(\"Enter your age: \"))\n",
        "    if is_teenager(age):\n",
        "        print(\"You are a teenager.\")\n",
        "    else:\n",
        "        print(\"You are not a teenager.\")\n",
        "except ValueError:\n",
        "    print(\"Please enter a valid age as an integer.\")\n"
      ]
    },
    {
      "cell_type": "markdown",
      "id": "94ecac79-e0dd-4741-be00-e0e768a0d10f",
      "metadata": {
        "id": "94ecac79-e0dd-4741-be00-e0e768a0d10f"
      },
      "source": [
        "**Q16. Develop a program that determines the type of angle based on its measure (acute, obtuse, or right).**"
      ]
    },
    {
      "cell_type": "code",
      "execution_count": null,
      "id": "6addf685-0a8d-4024-852e-d22b792c3cc8",
      "metadata": {
        "id": "6addf685-0a8d-4024-852e-d22b792c3cc8",
        "outputId": "8e703520-e1a3-418e-c90d-b46203f0579f"
      },
      "outputs": [
        {
          "name": "stdin",
          "output_type": "stream",
          "text": [
            "Enter the angle measure in degrees:  90\n"
          ]
        },
        {
          "name": "stdout",
          "output_type": "stream",
          "text": [
            "The angle is Right.\n"
          ]
        }
      ],
      "source": [
        "def angle_type(angle):\n",
        "    if angle < 90:\n",
        "        return \"Acute\"\n",
        "    else:\n",
        "        if angle == 90:\n",
        "            return \"Right\"\n",
        "        else:\n",
        "            return \"Obtuse\"\n",
        "\n",
        "try:\n",
        "    angle = float(input(\"Enter the angle measure in degrees: \"))\n",
        "    if angle >= 0:\n",
        "        angle_classification = angle_type(angle)\n",
        "        print(f\"The angle is {angle_classification}.\")\n",
        "    else:\n",
        "        print(\"Please enter a non-negative angle measure.\")\n",
        "except ValueError:\n",
        "    print(\"Please enter a valid numerical value for the angle measure.\")\n"
      ]
    },
    {
      "cell_type": "markdown",
      "id": "6cb07fd8-862f-4ccb-8157-6d88d531585b",
      "metadata": {
        "id": "6cb07fd8-862f-4ccb-8157-6d88d531585b"
      },
      "source": [
        "**Q17. Write a Python program to calculate the roots of a quadratic equation.**"
      ]
    },
    {
      "cell_type": "code",
      "execution_count": null,
      "id": "16fdf760-82b7-43f0-8444-26c2d25b906b",
      "metadata": {
        "id": "16fdf760-82b7-43f0-8444-26c2d25b906b",
        "outputId": "c19f825a-dccb-43c4-f79d-face9e711ec2"
      },
      "outputs": [
        {
          "name": "stdin",
          "output_type": "stream",
          "text": [
            "Enter the coefficient of x^2 (a):  1\n",
            "Enter the coefficient of x (b):  3\n",
            "Enter the constant term (c):  2\n"
          ]
        },
        {
          "name": "stdout",
          "output_type": "stream",
          "text": [
            "The roots are: -1.0 and -2.0\n"
          ]
        }
      ],
      "source": [
        "def calculate_roots(a, b, c):\n",
        "    # Calculate the discriminant\n",
        "    discriminant = b**2 - 4*a*c\n",
        "\n",
        "    # Check if the discriminant is positive, negative, or zero\n",
        "    if discriminant > 0:\n",
        "        # Calculate two real roots\n",
        "        root1 = (-b + (discriminant ** 0.5)) / (2*a)\n",
        "        root2 = (-b - (discriminant ** 0.5)) / (2*a)\n",
        "        return root1, root2\n",
        "    else:\n",
        "        if discriminant == 0:\n",
        "            # Calculate one real root (repeated)\n",
        "            root = -b / (2*a)\n",
        "            return root, None\n",
        "        else:\n",
        "            # Calculate two complex roots\n",
        "            real_part = -b / (2*a)\n",
        "            imaginary_part = ((-discriminant) ** 0.5) / (2*a)\n",
        "            return (real_part, imaginary_part), (real_part, -imaginary_part)\n",
        "\n",
        "try:\n",
        "    a = float(input(\"Enter the coefficient of x^2 (a): \"))\n",
        "    b = float(input(\"Enter the coefficient of x (b): \"))\n",
        "    c = float(input(\"Enter the constant term (c): \"))\n",
        "\n",
        "    if a == 0:\n",
        "        print(\"This is not a quadratic equation.\")\n",
        "    else:\n",
        "        roots = calculate_roots(a, b, c)\n",
        "        if isinstance(roots[0], tuple):\n",
        "            print(\"The roots are complex:\", roots[0], \"and\", roots[1])\n",
        "        elif roots[1] is None:\n",
        "            print(\"The repeated root is:\", roots[0])\n",
        "        else:\n",
        "            print(\"The roots are:\", roots[0], \"and\", roots[1])\n",
        "except ValueError:\n",
        "    print(\"Please enter valid numerical coefficients.\")\n"
      ]
    },
    {
      "cell_type": "markdown",
      "id": "d61bb242-b5ff-4558-8ba5-7d284e103a04",
      "metadata": {
        "id": "d61bb242-b5ff-4558-8ba5-7d284e103a04"
      },
      "source": [
        "**Q18. Implement a program to determine the day of the week based on a user-provided number (1 for Monday, 2\n",
        "for Tuesday, etc.).**"
      ]
    },
    {
      "cell_type": "code",
      "execution_count": null,
      "id": "9e899344-a732-48ac-9cd6-0c52b3965214",
      "metadata": {
        "id": "9e899344-a732-48ac-9cd6-0c52b3965214",
        "outputId": "ff818e31-8cde-4b75-f432-d86c353dd068"
      },
      "outputs": [
        {
          "name": "stdin",
          "output_type": "stream",
          "text": [
            "Enter a number (1 for Monday, 2 for Tuesday, etc.):  7\n"
          ]
        },
        {
          "name": "stdout",
          "output_type": "stream",
          "text": [
            "The day corresponding to the number is: Sunday\n"
          ]
        }
      ],
      "source": [
        "def day_of_week(day_number):\n",
        "    if day_number == 1:\n",
        "        return \"Monday\"\n",
        "    else:\n",
        "        if day_number == 2:\n",
        "            return \"Tuesday\"\n",
        "        else:\n",
        "            if day_number == 3:\n",
        "                return \"Wednesday\"\n",
        "            else:\n",
        "                if day_number == 4:\n",
        "                    return \"Thursday\"\n",
        "                else:\n",
        "                    if day_number == 5:\n",
        "                        return \"Friday\"\n",
        "                    else:\n",
        "                        if day_number == 6:\n",
        "                            return \"Saturday\"\n",
        "                        else:\n",
        "                            if day_number == 7:\n",
        "                                return \"Sunday\"\n",
        "                            else:\n",
        "                                return \"Invalid day number\"\n",
        "\n",
        "try:\n",
        "    day_number = int(input(\"Enter a number (1 for Monday, 2 for Tuesday, etc.): \"))\n",
        "    if 1 <= day_number <= 7:\n",
        "        day = day_of_week(day_number)\n",
        "        print(\"The day corresponding to the number is:\", day)\n",
        "    else:\n",
        "        print(\"Please enter a number between 1 and 7.\")\n",
        "except ValueError:\n",
        "    print(\"Please enter a valid number.\")\n"
      ]
    },
    {
      "cell_type": "markdown",
      "id": "7ffa47e0-bfa6-44a4-a915-1d0c28dff84a",
      "metadata": {
        "id": "7ffa47e0-bfa6-44a4-a915-1d0c28dff84a"
      },
      "source": [
        "**Q9. Create a program that determines if a year is a leap year and also if it is evenly divisible by 400.**"
      ]
    },
    {
      "cell_type": "code",
      "execution_count": null,
      "id": "0083ee62-45ee-4227-be0f-b2a05df840de",
      "metadata": {
        "id": "0083ee62-45ee-4227-be0f-b2a05df840de",
        "outputId": "6fec5c69-b4a9-48f3-c188-2df7b12baeb2"
      },
      "outputs": [
        {
          "name": "stdin",
          "output_type": "stream",
          "text": [
            "Enter a year:  10000\n"
          ]
        },
        {
          "name": "stdout",
          "output_type": "stream",
          "text": [
            "10000 is a leap year.\n",
            "10000 is evenly divisible by 400.\n"
          ]
        }
      ],
      "source": [
        "def is_leap_year(year):\n",
        "    if year % 4 == 0:\n",
        "        if year % 100 == 0:\n",
        "            if year % 400 == 0:\n",
        "                return True  # Divisible by 400, so it's a leap year\n",
        "            else:\n",
        "                return False  # Divisible by 100 but not by 400, so it's not a leap year\n",
        "        else:\n",
        "            return True  # Divisible by 4 but not by 100, so it's a leap year\n",
        "    else:\n",
        "        return False  # Not divisible by 4, so it's not a leap year\n",
        "\n",
        "def is_divisible_by_400(year):\n",
        "    return year % 400 == 0\n",
        "\n",
        "try:\n",
        "    year = int(input(\"Enter a year: \"))\n",
        "    if year < 0:\n",
        "        print(\"Please enter a valid positive year.\")\n",
        "    else:\n",
        "        if is_leap_year(year):\n",
        "            print(f\"{year} is a leap year.\")\n",
        "        else:\n",
        "            print(f\"{year} is not a leap year.\")\n",
        "\n",
        "        if is_divisible_by_400(year):\n",
        "            print(f\"{year} is evenly divisible by 400.\")\n",
        "        else:\n",
        "            print(f\"{year} is not evenly divisible by 400.\")\n",
        "except ValueError:\n",
        "    print(\"Please enter a valid year as an integer.\")\n"
      ]
    },
    {
      "cell_type": "markdown",
      "id": "f7bf9f5c-3f1a-4d37-bde7-61c8535ea444",
      "metadata": {
        "id": "f7bf9f5c-3f1a-4d37-bde7-61c8535ea444"
      },
      "source": [
        "**Q20. Develop a program that checks if a given number is prime or not using nested if-else statements.**"
      ]
    },
    {
      "cell_type": "code",
      "execution_count": null,
      "id": "ff71e6e2-9bad-4f39-90e0-7adde7c1a381",
      "metadata": {
        "id": "ff71e6e2-9bad-4f39-90e0-7adde7c1a381",
        "outputId": "cd8e0375-b1d8-4a2f-9139-ba07b65d7e59"
      },
      "outputs": [
        {
          "name": "stdin",
          "output_type": "stream",
          "text": [
            "Enter a number:  71\n"
          ]
        },
        {
          "name": "stdout",
          "output_type": "stream",
          "text": [
            "71 is a prime number.\n"
          ]
        }
      ],
      "source": [
        "def is_prime(number):\n",
        "    if number <= 1:\n",
        "        return False\n",
        "    else:\n",
        "        if number <= 3:\n",
        "            return True\n",
        "        else:\n",
        "            if number % 2 == 0 or number % 3 == 0:\n",
        "                return False\n",
        "            i = 5\n",
        "            while i * i <= number:\n",
        "                if number % i == 0 or number % (i + 2) == 0:\n",
        "                    return False\n",
        "                i += 6\n",
        "            return True\n",
        "\n",
        "try:\n",
        "    num = int(input(\"Enter a number: \"))\n",
        "    if is_prime(num):\n",
        "        print(f\"{num} is a prime number.\")\n",
        "    else:\n",
        "        print(f\"{num} is not a prime number.\")\n",
        "except ValueError:\n",
        "    print(\"Please enter a valid integer.\")\n"
      ]
    },
    {
      "cell_type": "markdown",
      "id": "410bbc5a-cb66-4456-b074-7e1b1d2af6d9",
      "metadata": {
        "id": "410bbc5a-cb66-4456-b074-7e1b1d2af6d9"
      },
      "source": [
        "# Elif Statements:"
      ]
    },
    {
      "cell_type": "markdown",
      "id": "24457e78-9eea-4ac8-a820-72b00bb92952",
      "metadata": {
        "id": "24457e78-9eea-4ac8-a820-72b00bb92952"
      },
      "source": [
        "**Q21. Write a Python program to assign grades based on different ranges of scores using elif statements.**"
      ]
    },
    {
      "cell_type": "code",
      "execution_count": null,
      "id": "62f2142e-1d08-42f9-8a05-1b20c80d4dbb",
      "metadata": {
        "id": "62f2142e-1d08-42f9-8a05-1b20c80d4dbb",
        "outputId": "5e60996f-af0f-40fc-dcc9-513b6b1622b2"
      },
      "outputs": [
        {
          "name": "stdin",
          "output_type": "stream",
          "text": [
            "Enter the student's score:  8\n"
          ]
        },
        {
          "name": "stdout",
          "output_type": "stream",
          "text": [
            "The student's grade is: F\n"
          ]
        }
      ],
      "source": [
        "def assign_grade(score):\n",
        "    if score >= 90:\n",
        "        return 'A'\n",
        "    elif score >= 80:\n",
        "        return 'B'\n",
        "    elif score >= 70:\n",
        "        return 'C'\n",
        "    elif score >= 60:\n",
        "        return 'D'\n",
        "    else:\n",
        "        return 'F'\n",
        "\n",
        "try:\n",
        "    score = float(input(\"Enter the student's score: \"))\n",
        "    if score < 0 or score > 100:\n",
        "        print(\"Please enter a valid score between 0 and 100.\")\n",
        "    else:\n",
        "        grade = assign_grade(score)\n",
        "        print(f\"The student's grade is: {grade}\")\n",
        "except ValueError:\n",
        "    print(\"Please enter a valid numerical score.\")\n"
      ]
    },
    {
      "cell_type": "markdown",
      "id": "228ac1b6-b654-42d7-9941-abf3a0d3b4c9",
      "metadata": {
        "id": "228ac1b6-b654-42d7-9941-abf3a0d3b4c9"
      },
      "source": [
        "**Q22. Implement a program to determine the type of a triangle based on its angles.**"
      ]
    },
    {
      "cell_type": "code",
      "execution_count": null,
      "id": "c5e9c2bc-b3f3-4135-bda2-f28d333b4716",
      "metadata": {
        "id": "c5e9c2bc-b3f3-4135-bda2-f28d333b4716",
        "outputId": "f52b0f4f-c584-4a35-96dd-c8c746217322"
      },
      "outputs": [
        {
          "name": "stdin",
          "output_type": "stream",
          "text": [
            "Enter the first angle of the triangle:  8\n",
            "Enter the second angle of the triangle:  10\n",
            "Enter the third angle of the triangle:  9\n"
          ]
        },
        {
          "name": "stdout",
          "output_type": "stream",
          "text": [
            "The triangle is a Invalid triangle.\n"
          ]
        }
      ],
      "source": [
        "def triangle_type(angle1, angle2, angle3):\n",
        "    if angle1 + angle2 + angle3 == 180:\n",
        "        if angle1 == 90 or angle2 == 90 or angle3 == 90:\n",
        "            return \"Right triangle\"\n",
        "        elif angle1 < 90 and angle2 < 90 and angle3 < 90:\n",
        "            return \"Acute triangle\"\n",
        "        else:\n",
        "            return \"Obtuse triangle\"\n",
        "    else:\n",
        "        return \"Invalid triangle\"\n",
        "\n",
        "try:\n",
        "    angle1 = float(input(\"Enter the first angle of the triangle: \"))\n",
        "    angle2 = float(input(\"Enter the second angle of the triangle: \"))\n",
        "    angle3 = float(input(\"Enter the third angle of the triangle: \"))\n",
        "\n",
        "    triangle = triangle_type(angle1, angle2, angle3)\n",
        "    print(f\"The triangle is a {triangle}.\")\n",
        "except ValueError:\n",
        "    print(\"Please enter valid numerical values for the angles of the triangle.\")\n"
      ]
    },
    {
      "cell_type": "markdown",
      "id": "828e2740-385e-4b14-8b87-bae5abb1db5f",
      "metadata": {
        "id": "828e2740-385e-4b14-8b87-bae5abb1db5f"
      },
      "source": [
        "**Q23. Develop a program to categorize a given person's BMI into underweight, normal, overweight, or obese using\n",
        "elif statements.**"
      ]
    },
    {
      "cell_type": "code",
      "execution_count": null,
      "id": "4a7d18f0-958a-4cd8-860a-0589ec67e11a",
      "metadata": {
        "id": "4a7d18f0-958a-4cd8-860a-0589ec67e11a",
        "outputId": "2a161d8c-78fc-4704-f6c5-e18441150113"
      },
      "outputs": [
        {
          "name": "stdin",
          "output_type": "stream",
          "text": [
            "Enter your weight in kilograms:  890\n",
            "Enter your height in meters:  32\n"
          ]
        },
        {
          "name": "stdout",
          "output_type": "stream",
          "text": [
            "Your BMI is 0.87, which is categorized as Underweight.\n"
          ]
        }
      ],
      "source": [
        "def calculate_bmi(weight, height):\n",
        "    return weight / (height ** 2)\n",
        "\n",
        "def categorize_bmi(bmi):\n",
        "    if bmi < 18.5:\n",
        "        return \"Underweight\"\n",
        "    elif bmi < 25:\n",
        "        return \"Normal\"\n",
        "    elif bmi < 30:\n",
        "        return \"Overweight\"\n",
        "    else:\n",
        "        return \"Obese\"\n",
        "\n",
        "try:\n",
        "    weight = float(input(\"Enter your weight in kilograms: \"))\n",
        "    height = float(input(\"Enter your height in meters: \"))\n",
        "\n",
        "    if weight <= 0 or height <= 0:\n",
        "        print(\"Please enter valid positive values for weight and height.\")\n",
        "    else:\n",
        "        bmi = calculate_bmi(weight, height)\n",
        "        category = categorize_bmi(bmi)\n",
        "        print(f\"Your BMI is {bmi:.2f}, which is categorized as {category}.\")\n",
        "except ValueError:\n",
        "    print(\"Please enter valid numerical values for weight and height.\")\n"
      ]
    },
    {
      "cell_type": "markdown",
      "id": "909827a4-ca9f-44f8-8dd3-9e0b5751f2bb",
      "metadata": {
        "id": "909827a4-ca9f-44f8-8dd3-9e0b5751f2bb"
      },
      "source": [
        "**Q24. Create a program that determines whether a given number is positive, negative, or zero using elif\n",
        "statement**s"
      ]
    },
    {
      "cell_type": "code",
      "execution_count": null,
      "id": "8477fbc5-7d97-4511-8856-c1634dcdeda6",
      "metadata": {
        "id": "8477fbc5-7d97-4511-8856-c1634dcdeda6",
        "outputId": "fdb75c22-336a-4f04-8f3c-c72b6b499f40"
      },
      "outputs": [
        {
          "name": "stdin",
          "output_type": "stream",
          "text": [
            "Enter a number:  2\n"
          ]
        },
        {
          "name": "stdout",
          "output_type": "stream",
          "text": [
            "The number is positive.\n"
          ]
        }
      ],
      "source": [
        "def check_number(num):\n",
        "    if num > 0:\n",
        "        print(\"The number is positive.\")\n",
        "    elif num < 0:\n",
        "        print(\"The number is negative.\")\n",
        "    else:\n",
        "        print(\"The number is zero.\")\n",
        "\n",
        "try:\n",
        "    number = float(input(\"Enter a number: \"))\n",
        "    check_number(number)\n",
        "except ValueError:\n",
        "    print(\"Please enter a valid number.\")\n"
      ]
    },
    {
      "cell_type": "markdown",
      "id": "9c734c8b-f887-47d0-9c27-0422d728d564",
      "metadata": {
        "id": "9c734c8b-f887-47d0-9c27-0422d728d564"
      },
      "source": [
        "**Q25. Write a Python script to determine the type of a character (uppercase, lowercase, or special) using elif\n",
        "statements**"
      ]
    },
    {
      "cell_type": "code",
      "execution_count": null,
      "id": "c88390dd-783c-4614-9191-637898f15690",
      "metadata": {
        "id": "c88390dd-783c-4614-9191-637898f15690",
        "outputId": "b7538372-e6ac-4722-c2a0-0c91f2b89b83"
      },
      "outputs": [
        {
          "name": "stdin",
          "output_type": "stream",
          "text": [
            "Enter a character:  u\n"
          ]
        },
        {
          "name": "stdout",
          "output_type": "stream",
          "text": [
            "The character 'u' is Lowercase.\n"
          ]
        }
      ],
      "source": [
        "def char_type(char):\n",
        "    if char.isupper():\n",
        "        return \"Uppercase\"\n",
        "    elif char.islower():\n",
        "        return \"Lowercase\"\n",
        "    else:\n",
        "        return \"Special character\"\n",
        "\n",
        "try:\n",
        "    char = input(\"Enter a character: \")\n",
        "    if len(char) != 1:\n",
        "        print(\"Please enter only one character.\")\n",
        "    else:\n",
        "        print(f\"The character '{char}' is {char_type(char)}.\")\n",
        "except ValueError:\n",
        "    print(\"Please enter a valid character.\")\n"
      ]
    },
    {
      "cell_type": "markdown",
      "id": "34c5e394-66a0-4388-8dd0-581caa241f6e",
      "metadata": {
        "id": "34c5e394-66a0-4388-8dd0-581caa241f6e"
      },
      "source": [
        "**Q26. Implement a program to calculate the discounted price based on different purchase amounts using elif\n",
        "statements**."
      ]
    },
    {
      "cell_type": "code",
      "execution_count": null,
      "id": "2b39c5e2-707e-4afd-b96e-cc291b92180b",
      "metadata": {
        "id": "2b39c5e2-707e-4afd-b96e-cc291b92180b",
        "outputId": "30c50aae-3ab9-4dd0-8c58-9ea054f8c119"
      },
      "outputs": [
        {
          "name": "stdin",
          "output_type": "stream",
          "text": [
            "Enter the purchase amount:  9\n"
          ]
        },
        {
          "name": "stdout",
          "output_type": "stream",
          "text": [
            "The discounted price for a purchase amount of $9.00 is $9.00.\n"
          ]
        }
      ],
      "source": [
        "def calculate_discounted_price(amount):\n",
        "    if amount >= 1000:\n",
        "        discount = amount * 0.1\n",
        "    elif amount >= 500:\n",
        "        discount = amount * 0.05\n",
        "    elif amount >= 100:\n",
        "        discount = amount * 0.02\n",
        "    else:\n",
        "        discount = 0\n",
        "    discounted_price = amount - discount\n",
        "    return discounted_price\n",
        "\n",
        "try:\n",
        "    amount = float(input(\"Enter the purchase amount: \"))\n",
        "    if amount < 0:\n",
        "        print(\"Please enter a positive purchase amount.\")\n",
        "    else:\n",
        "        discounted_price = calculate_discounted_price(amount)\n",
        "        print(f\"The discounted price for a purchase amount of ${amount:.2f} is ${discounted_price:.2f}.\")\n",
        "except ValueError:\n",
        "    print(\"Please enter a valid numerical value for the purchase amount.\")\n"
      ]
    },
    {
      "cell_type": "markdown",
      "id": "bb0831ae-1341-45b8-8dbc-c4330a3631cf",
      "metadata": {
        "id": "bb0831ae-1341-45b8-8dbc-c4330a3631cf"
      },
      "source": [
        "**Q27. Develop a program to calculate the electricity bill based on different consumption slabs using elif statements**"
      ]
    },
    {
      "cell_type": "code",
      "execution_count": null,
      "id": "71f53000-d5f9-4ea2-8fc6-edc3bbcbe6af",
      "metadata": {
        "id": "71f53000-d5f9-4ea2-8fc6-edc3bbcbe6af",
        "outputId": "d80fb120-e2f6-49b3-c743-50fbb7233591"
      },
      "outputs": [
        {
          "name": "stdin",
          "output_type": "stream",
          "text": [
            "Enter the number of units consumed:  45\n"
          ]
        },
        {
          "name": "stdout",
          "output_type": "stream",
          "text": [
            "The electricity bill for 45.0 units is $22.50.\n"
          ]
        }
      ],
      "source": [
        "def calculate_electricity_bill(units):\n",
        "    if units <= 50:\n",
        "        bill = units * 0.50\n",
        "    elif units <= 150:\n",
        "        bill = 25 + (units - 50) * 0.75\n",
        "    elif units <= 250:\n",
        "        bill = 100 + (units - 150) * 1.20\n",
        "    else:\n",
        "        bill = 220 + (units - 250) * 1.50\n",
        "    return bill\n",
        "\n",
        "try:\n",
        "    units = float(input(\"Enter the number of units consumed: \"))\n",
        "    if units < 0:\n",
        "        print(\"Please enter a positive number of units consumed.\")\n",
        "    else:\n",
        "        bill_amount = calculate_electricity_bill(units)\n",
        "        print(f\"The electricity bill for {units} units is ${bill_amount:.2f}.\")\n",
        "except ValueError:\n",
        "    print(\"Please enter a valid numerical value for the units consumed.\")\n"
      ]
    },
    {
      "cell_type": "markdown",
      "id": "644c7d8d-fbd0-44ab-a9eb-52da5c77a8f7",
      "metadata": {
        "id": "644c7d8d-fbd0-44ab-a9eb-52da5c77a8f7"
      },
      "source": [
        "**Q28. Create a program to determine the type of quadrilateral based on its angles and sides using elif\n",
        "statements**."
      ]
    },
    {
      "cell_type": "code",
      "execution_count": null,
      "id": "28cbe5b0-555f-4c87-9e33-9e2a4c478764",
      "metadata": {
        "id": "28cbe5b0-555f-4c87-9e33-9e2a4c478764"
      },
      "outputs": [],
      "source": [
        "def quadrilateral_type(sides, angles):\n",
        "    if sides.count(sides[0]) == 4:\n",
        "        if angles.count(90) == 4:\n",
        "            return \"Square\"\n",
        "        else:\n",
        "            return \"Rhombus\"\n",
        "    elif sides[0] == sides[2] and sides[1] == sides[3]:\n",
        "        if angles.count(90) == 2:\n",
        "            return \"Rectangle\"\n",
        "        else:\n",
        "            return \"Parallelogram\"\n",
        "    else:\n",
        "        return \"Quadrilateral\"\n",
        "\n",
        "try:\n",
        "    sides = []\n",
        "    angles = []\n",
        "\n",
        "    print(\"Enter the lengths of the four sides of the quadrilateral:\")\n",
        "    for i in range(4):\n",
        "        side = float(input(f\"Enter side {i + 1}: \"))\n",
        "        sides.append(side)\n",
        "\n",
        "    print(\"Enter the measures of the four angles of the quadrilateral:\")\n",
        "    for i in range(4):\n",
        "        angle = float(input(f\"Enter angle {i + 1}: \"))\n",
        "        angles.append(angle)\n",
        "\n",
        "    quad_type = quadrilateral_type(sides, angles)\n",
        "    print(f\"The quadrilateral is a {quad_type}.\")\n",
        "except ValueError:\n",
        "    print(\"Please enter valid numerical values for sides and angles.\")\n"
      ]
    },
    {
      "cell_type": "markdown",
      "id": "d9afd2b7-72a2-4199-b720-04cfb584ffdc",
      "metadata": {
        "id": "d9afd2b7-72a2-4199-b720-04cfb584ffdc"
      },
      "source": [
        "**Q29. Write a Python script to determine the season based on a user-provided month using elif statements**"
      ]
    },
    {
      "cell_type": "code",
      "execution_count": null,
      "id": "731ee63a-e54b-456f-8c7f-740c0fdd3bee",
      "metadata": {
        "id": "731ee63a-e54b-456f-8c7f-740c0fdd3bee",
        "outputId": "44d528d5-0bfd-4ebd-b8cd-7e06be5cc881"
      },
      "outputs": [
        {
          "name": "stdin",
          "output_type": "stream",
          "text": [
            "Enter the month (1-12):  1\n"
          ]
        },
        {
          "name": "stdout",
          "output_type": "stream",
          "text": [
            "The season for month 1 is Winter.\n"
          ]
        }
      ],
      "source": [
        "def determine_season(month):\n",
        "    if month in (3, 4, 5):\n",
        "        return \"Spring\"\n",
        "    elif month in (6, 7, 8):\n",
        "        return \"Summer\"\n",
        "    elif month in (9, 10, 11):\n",
        "        return \"Autumn\"\n",
        "    elif month in (12, 1, 2):\n",
        "        return \"Winter\"\n",
        "    else:\n",
        "        return \"Invalid month\"\n",
        "\n",
        "try:\n",
        "    month = int(input(\"Enter the month (1-12): \"))\n",
        "    if month < 1 or month > 12:\n",
        "        print(\"Please enter a valid month (1-12).\")\n",
        "    else:\n",
        "        season = determine_season(month)\n",
        "        print(f\"The season for month {month} is {season}.\")\n",
        "except ValueError:\n",
        "    print(\"Please enter a valid integer for the month.\")\n"
      ]
    },
    {
      "cell_type": "markdown",
      "id": "a0e16b48-fdc8-470a-a9d2-10b5be851eab",
      "metadata": {
        "id": "a0e16b48-fdc8-470a-a9d2-10b5be851eab"
      },
      "source": [
        "**Q30. Implement a program to determine the type of a year (leap or common) and month (30 or 31 days) using\n",
        "elif statements**."
      ]
    },
    {
      "cell_type": "code",
      "execution_count": null,
      "id": "21349676-e587-4efb-98e0-6d572fd2e547",
      "metadata": {
        "id": "21349676-e587-4efb-98e0-6d572fd2e547",
        "outputId": "3038571e-4f8c-4917-9bf4-9b07ff50f582"
      },
      "outputs": [
        {
          "name": "stdin",
          "output_type": "stream",
          "text": [
            "Enter the year:  7\n",
            "Enter the month (1-12):  8\n"
          ]
        },
        {
          "name": "stdout",
          "output_type": "stream",
          "text": [
            "7 is a common year.\n",
            "The month 8 has 31 days.\n"
          ]
        }
      ],
      "source": [
        "def is_leap_year(year):\n",
        "    if year % 4 == 0:\n",
        "        if year % 100 == 0:\n",
        "            if year % 400 == 0:\n",
        "                return True  # Divisible by 400, so it's a leap year\n",
        "            else:\n",
        "                return False  # Divisible by 100 but not by 400, so it's not a leap year\n",
        "        else:\n",
        "            return True  # Divisible by 4 but not by 100, so it's a leap year\n",
        "    else:\n",
        "        return False  # Not divisible by 4, so it's not a leap year\n",
        "\n",
        "def days_in_month(month, year):\n",
        "    if month in (1, 3, 5, 7, 8, 10, 12):\n",
        "        return 31\n",
        "    elif month in (4, 6, 9, 11):\n",
        "        return 30\n",
        "    elif month == 2:\n",
        "        if is_leap_year(year):\n",
        "            return 29\n",
        "        else:\n",
        "            return 28\n",
        "    else:\n",
        "        return None  # Invalid month\n",
        "\n",
        "try:\n",
        "    year = int(input(\"Enter the year: \"))\n",
        "    month = int(input(\"Enter the month (1-12): \"))\n",
        "\n",
        "    if month < 1 or month > 12:\n",
        "        print(\"Please enter a valid month (1-12).\")\n",
        "    else:\n",
        "        if is_leap_year(year):\n",
        "            print(f\"{year} is a leap year.\")\n",
        "        else:\n",
        "            print(f\"{year} is a common year.\")\n",
        "\n",
        "        days = days_in_month(month, year)\n",
        "        if days is not None:\n",
        "            print(f\"The month {month} has {days} days.\")\n",
        "        else:\n",
        "            print(\"Invalid month.\")\n",
        "except ValueError:\n",
        "    print(\"Please enter valid numerical values for the year and month.\")\n"
      ]
    },
    {
      "cell_type": "markdown",
      "source": [
        "# Basic Level"
      ],
      "metadata": {
        "id": "pbX2IITISrAt"
      },
      "id": "pbX2IITISrAt"
    },
    {
      "cell_type": "markdown",
      "source": [
        "Q1. Write a Python program that checks if a given number is positive, negative, or zero."
      ],
      "metadata": {
        "id": "ViSvFNNZTivi"
      },
      "id": "ViSvFNNZTivi"
    },
    {
      "cell_type": "code",
      "source": [
        "def check_number(number):\n",
        "    if number > 0:\n",
        "        print(\"The number is positive.\")\n",
        "    elif number < 0:\n",
        "        print(\"The number is negative.\")\n",
        "    else:\n",
        "        print(\"The number is zero.\")\n",
        "\n",
        "# Test the function with user input\n",
        "user_input = float(input(\"Enter a number: \"))\n",
        "check_number(user_input)\n"
      ],
      "metadata": {
        "colab": {
          "base_uri": "https://localhost:8080/"
        },
        "id": "PeM3PqqUSqRW",
        "outputId": "41883e23-685a-4c5d-b94b-97f535c58100"
      },
      "id": "PeM3PqqUSqRW",
      "execution_count": 14,
      "outputs": [
        {
          "output_type": "stream",
          "name": "stdout",
          "text": [
            "Enter a number: 6\n",
            "The number is positive.\n"
          ]
        }
      ]
    },
    {
      "cell_type": "markdown",
      "source": [
        "Q2. Create a program to determine if a person is eligible to vote based"
      ],
      "metadata": {
        "id": "Oi-kJR4kTmqy"
      },
      "id": "Oi-kJR4kTmqy"
    },
    {
      "cell_type": "code",
      "source": [
        "def check_voting_eligibility(age):\n",
        "    if age >= 18:\n",
        "        print(\"You are eligible to vote.\")\n",
        "    else:\n",
        "        print(\"You are not eligible to vote yet.\")\n",
        "\n",
        "# Test the function with user input\n",
        "user_age = int(input(\"Enter your age: \"))\n",
        "check_voting_eligibility(user_age)\n"
      ],
      "metadata": {
        "colab": {
          "base_uri": "https://localhost:8080/"
        },
        "id": "LTnZ90WlTqDT",
        "outputId": "053d5f30-efb5-4eae-ad49-122503170865"
      },
      "id": "LTnZ90WlTqDT",
      "execution_count": 13,
      "outputs": [
        {
          "output_type": "stream",
          "name": "stdout",
          "text": [
            "Enter your age: 18\n",
            "You are eligible to vote.\n"
          ]
        }
      ]
    },
    {
      "cell_type": "markdown",
      "source": [
        "Q3. Write a program to find the maximum of two given numbers using conditional statements.\n"
      ],
      "metadata": {
        "id": "kjxgaPIfTxZ7"
      },
      "id": "kjxgaPIfTxZ7"
    },
    {
      "cell_type": "code",
      "source": [
        "def find_maximum(num1, num2):\n",
        "    if num1 > num2:\n",
        "        return num1\n",
        "    else:\n",
        "        return num2\n",
        "\n",
        "# Take input from the user\n",
        "number1 = float(input(\"Enter the first number: \"))\n",
        "number2 = float(input(\"Enter the second number: \"))\n",
        "\n",
        "maximum = find_maximum(number1, number2)\n",
        "print(\"The maximum of the two numbers is:\", maximum)\n"
      ],
      "metadata": {
        "colab": {
          "base_uri": "https://localhost:8080/"
        },
        "id": "zLVrSMfTT3vu",
        "outputId": "813aec5d-beb4-4314-a906-e6399b0f9a07"
      },
      "id": "zLVrSMfTT3vu",
      "execution_count": 12,
      "outputs": [
        {
          "output_type": "stream",
          "name": "stdout",
          "text": [
            "Enter the first number: 6\n",
            "Enter the second number: 3\n",
            "The maximum of the two numbers is: 6.0\n"
          ]
        }
      ]
    },
    {
      "cell_type": "markdown",
      "source": [
        "Q4. Develop a program that calculates the grade of a student based on their exam score.\n"
      ],
      "metadata": {
        "id": "_TXHu55QUCSg"
      },
      "id": "_TXHu55QUCSg"
    },
    {
      "cell_type": "code",
      "source": [
        "def calculate_grade(score):\n",
        "    if score >= 90:\n",
        "        return \"A\"\n",
        "    elif score >= 80:\n",
        "        return \"B\"\n",
        "    elif score >= 70:\n",
        "        return \"C\"\n",
        "    elif score >= 60:\n",
        "        return \"D\"\n",
        "    else:\n",
        "        return \"F\"\n",
        "\n",
        "# Test the function with user input\n",
        "exam_score = float(input(\"Enter the student's exam score: \"))\n",
        "\n",
        "grade = calculate_grade(exam_score)\n",
        "print(\"The student's grade is:\", grade)\n"
      ],
      "metadata": {
        "colab": {
          "base_uri": "https://localhost:8080/"
        },
        "id": "EFSJIXQLUGDY",
        "outputId": "4f5935b8-df1a-43f5-ee1f-df723f3e90d0"
      },
      "id": "EFSJIXQLUGDY",
      "execution_count": 11,
      "outputs": [
        {
          "output_type": "stream",
          "name": "stdout",
          "text": [
            "Enter the student's exam score: 45\n",
            "The student's grade is: F\n"
          ]
        }
      ]
    },
    {
      "cell_type": "markdown",
      "source": [
        "Q5. Create a program that checks if a year is a leap year or not.\n"
      ],
      "metadata": {
        "id": "blUdKut6UM2h"
      },
      "id": "blUdKut6UM2h"
    },
    {
      "cell_type": "code",
      "source": [
        "def is_leap_year(year):\n",
        "    if (year % 4 == 0 and year % 100 != 0) or (year % 400 == 0):\n",
        "        return True\n",
        "    else:\n",
        "        return False\n",
        "\n",
        "# Test the function with user input\n",
        "user_year = int(input(\"Enter a year: \"))\n",
        "\n",
        "if is_leap_year(user_year):\n",
        "    print(user_year, \"is a leap year.\")\n",
        "else:\n",
        "    print(user_year, \"is not a leap year.\")\n"
      ],
      "metadata": {
        "colab": {
          "base_uri": "https://localhost:8080/"
        },
        "id": "meZ4d45aUPui",
        "outputId": "de6ef8f2-1737-4ec3-f222-c220e9c09f71"
      },
      "id": "meZ4d45aUPui",
      "execution_count": 10,
      "outputs": [
        {
          "output_type": "stream",
          "name": "stdout",
          "text": [
            "Enter a year: 2024\n",
            "2024 is a leap year.\n"
          ]
        }
      ]
    },
    {
      "cell_type": "markdown",
      "source": [
        "Q6. Write a program to classify a triangle based on its sides' lengths.\n"
      ],
      "metadata": {
        "id": "zTwRB424UXa5"
      },
      "id": "zTwRB424UXa5"
    },
    {
      "cell_type": "code",
      "source": [
        "def classify_triangle(side1, side2, side3):\n",
        "    if side1 == side2 == side3:\n",
        "        return \"Equilateral triangle\"\n",
        "    elif side1 == side2 or side1 == side3 or side2 == side3:\n",
        "        return \"Isosceles triangle\"\n",
        "    else:\n",
        "        return \"Scalene triangle\"\n",
        "\n",
        "# Test the function with user input\n",
        "side1 = float(input(\"Enter the length of the first side: \"))\n",
        "side2 = float(input(\"Enter the length of the second side: \"))\n",
        "side3 = float(input(\"Enter the length of the third side: \"))\n",
        "\n",
        "classification = classify_triangle(side1, side2, side3)\n",
        "print(\"The triangle is classified as:\", classification)\n"
      ],
      "metadata": {
        "colab": {
          "base_uri": "https://localhost:8080/"
        },
        "id": "VM7HiJimUgLp",
        "outputId": "900fb02c-eab4-4601-aa38-1b1a9a322f60"
      },
      "id": "VM7HiJimUgLp",
      "execution_count": 8,
      "outputs": [
        {
          "output_type": "stream",
          "name": "stdout",
          "text": [
            "Enter the length of the first side: 8\n",
            "Enter the length of the second side: 2\n",
            "Enter the length of the third side: 3\n",
            "The triangle is classified as: Scalene triangle\n"
          ]
        }
      ]
    },
    {
      "cell_type": "markdown",
      "source": [
        "Q7. Build a program that determines the largest of three given numbers.\n"
      ],
      "metadata": {
        "id": "xLzTBnRxUhfb"
      },
      "id": "xLzTBnRxUhfb"
    },
    {
      "cell_type": "code",
      "source": [
        "def find_largest(num1, num2, num3):\n",
        "    if num1 >= num2 and num1 >= num3:\n",
        "        return num1\n",
        "    elif num2 >= num1 and num2 >= num3:\n",
        "        return num2\n",
        "    else:\n",
        "        return num3\n",
        "\n",
        "# Test the function with user input54\n",
        "\n",
        "num1 = float(input(\"Enter the first number: \"))\n",
        "num2 = float(input(\"Enter the second number: \"))\n",
        "num3 = float(input(\"Enter the third number: \"))\n",
        "\n",
        "largest = find_largest(num1, num2, num3)\n",
        "print(\"The largest number is:\", largest)\n"
      ],
      "metadata": {
        "colab": {
          "base_uri": "https://localhost:8080/"
        },
        "id": "RWHhKGzUUqxC",
        "outputId": "d9e7dea0-9b25-4754-90e1-760ce906b4a1"
      },
      "id": "RWHhKGzUUqxC",
      "execution_count": 7,
      "outputs": [
        {
          "output_type": "stream",
          "name": "stdout",
          "text": [
            "Enter the first number: 6\n",
            "Enter the second number: 5\n",
            "Enter the third number: 4\n",
            "The largest number is: 6.0\n"
          ]
        }
      ]
    },
    {
      "cell_type": "markdown",
      "source": [
        "8. Develop a program that checks whether a character is a vowel or a consonant.\n"
      ],
      "metadata": {
        "id": "qYKC8TFwUrze"
      },
      "id": "qYKC8TFwUrze"
    },
    {
      "cell_type": "code",
      "source": [
        "def check_character(char):\n",
        "    vowels = 'aeiouAEIOU'\n",
        "\n",
        "    if char.isalpha() and len(char) == 1:\n",
        "        if char in vowels:\n",
        "            return \"Vowel\"\n",
        "        else:\n",
        "            return \"Consonant\"\n",
        "    else:\n",
        "        return \"Not a valid alphabet character\"\n",
        "\n",
        "# Test the function with user input\n",
        "character = input(\"Enter a character: \")\n",
        "\n",
        "result = check_character(character)\n",
        "print(\"The character is:\", result)\n"
      ],
      "metadata": {
        "colab": {
          "base_uri": "https://localhost:8080/"
        },
        "id": "Z-b85INXU0XX",
        "outputId": "d1bda0fa-1725-48b5-ea15-df573d90d1b5"
      },
      "id": "Z-b85INXU0XX",
      "execution_count": 5,
      "outputs": [
        {
          "output_type": "stream",
          "name": "stdout",
          "text": [
            "Enter a character: a\n",
            "The character is: Vowel\n"
          ]
        }
      ]
    },
    {
      "cell_type": "markdown",
      "source": [
        "Q9. Create a program to calculate the total cost of a shopping cart based on discounts.\n"
      ],
      "metadata": {
        "id": "oIN1IfOSU1Iz"
      },
      "id": "oIN1IfOSU1Iz"
    },
    {
      "cell_type": "code",
      "source": [
        "def calculate_total_cost(item_prices):\n",
        "    total_cost = sum(item_prices)\n",
        "    if total_cost > 100:\n",
        "        total_cost *= 0.9  # Apply 10% discount for total cost over $100\n",
        "    return total_cost\n",
        "\n",
        "# Test the function with user input\n",
        "num_items = int(input(\"Enter the number of items: \"))\n",
        "item_prices = []\n",
        "for i in range(num_items):\n",
        "    price = float(input(\"Enter the price of item {}: \".format(i + 1)))\n",
        "    item_prices.append(price)\n",
        "\n",
        "total_cost = calculate_total_cost(item_prices)\n",
        "print(\"Total cost of the shopping cart is: ${:.2f}\".format(total_cost))\n"
      ],
      "metadata": {
        "colab": {
          "base_uri": "https://localhost:8080/"
        },
        "id": "8glo03pNU-Pp",
        "outputId": "6374f80f-1a0a-4cba-ffdf-5830f8905403"
      },
      "id": "8glo03pNU-Pp",
      "execution_count": 2,
      "outputs": [
        {
          "output_type": "stream",
          "name": "stdout",
          "text": [
            "Enter the number of items: 5\n",
            "Enter the price of item 1: 3\n",
            "Enter the price of item 2: 5\n",
            "Enter the price of item 3: 4\n",
            "Enter the price of item 4: 3\n",
            "Enter the price of item 5: 5\n",
            "Total cost of the shopping cart is: $20.00\n"
          ]
        }
      ]
    },
    {
      "cell_type": "markdown",
      "source": [
        "Q10. Write a program that checks if a given number is even or odd.\n"
      ],
      "metadata": {
        "id": "ERgSTBhqVBo8"
      },
      "id": "ERgSTBhqVBo8"
    },
    {
      "cell_type": "code",
      "source": [
        "def check_even_odd(number):\n",
        "    if number % 2 == 0:\n",
        "        return \"Even\"\n",
        "    else:\n",
        "        return \"Odd\"\n",
        "\n",
        "# Test the function with user input\n",
        "user_number = int(input(\"Enter a number: \"))\n",
        "\n",
        "result = check_even_odd(user_number)\n",
        "print(\"The number is:\", result)\n"
      ],
      "metadata": {
        "colab": {
          "base_uri": "https://localhost:8080/"
        },
        "id": "GGqLSDmaVEMO",
        "outputId": "b1c4af3e-8090-4564-a999-265b4e22db25"
      },
      "id": "GGqLSDmaVEMO",
      "execution_count": 1,
      "outputs": [
        {
          "output_type": "stream",
          "name": "stdout",
          "text": [
            "Enter a number:  6\n",
            "The number is: Even\n"
          ]
        }
      ]
    },
    {
      "cell_type": "markdown",
      "source": [
        "# Intermediate Level:"
      ],
      "metadata": {
        "id": "szfv1HWIVKBZ"
      },
      "id": "szfv1HWIVKBZ"
    },
    {
      "cell_type": "markdown",
      "source": [
        "Q11. Write a program that calculates the roots of a quadratic equation .\n"
      ],
      "metadata": {
        "id": "pWBZFM2gWKmA"
      },
      "id": "pWBZFM2gWKmA"
    },
    {
      "cell_type": "code",
      "source": [
        "import math\n",
        "\n",
        "def quadratic_roots(a, b, c):\n",
        "    discriminant = b**2 - 4*a*c\n",
        "    if discriminant > 0:\n",
        "        root1 = (-b + math.sqrt(discriminant)) / (2*a)\n",
        "        root2 = (-b - math.sqrt(discriminant)) / (2*a)\n",
        "        return root1, root2\n",
        "    elif discriminant == 0:\n",
        "        root = -b / (2*a)\n",
        "        return root, root  # repeated root\n",
        "    else:\n",
        "        real_part = -b / (2*a)\n",
        "        imaginary_part = math.sqrt(abs(discriminant)) / (2*a)\n",
        "        root1 = complex(real_part, imaginary_part)\n",
        "        root2 = complex(real_part, -imaginary_part)\n",
        "        return root1, root2\n",
        "\n",
        "# Test the function\n",
        "a = float(input(\"Enter the coefficient of x^2 (a): \"))\n",
        "b = float(input(\"Enter the coefficient of x (b): \"))\n",
        "c = float(input(\"Enter the constant term (c): \"))\n",
        "\n",
        "roots = quadratic_roots(a, b, c)\n",
        "\n",
        "print(\"Roots of the quadratic equation:\")\n",
        "print(\"Root 1:\", roots[0])\n",
        "print(\"Root 2:\", roots[1])\n"
      ],
      "metadata": {
        "colab": {
          "base_uri": "https://localhost:8080/"
        },
        "id": "KUS0ZLybWNGi",
        "outputId": "33ce9d19-0e78-4682-8a1f-8770f054992b"
      },
      "id": "KUS0ZLybWNGi",
      "execution_count": 15,
      "outputs": [
        {
          "output_type": "stream",
          "name": "stdout",
          "text": [
            "Enter the coefficient of x^2 (a): 2\n",
            "Enter the coefficient of x (b): 4\n",
            "Enter the constant term (c): 3\n",
            "Roots of the quadratic equation:\n",
            "Root 1: (-1+0.7071067811865476j)\n",
            "Root 2: (-1-0.7071067811865476j)\n"
          ]
        }
      ]
    },
    {
      "cell_type": "markdown",
      "source": [
        "Q12. Create a program that determines the day of the week based on the day number (1-7).\n"
      ],
      "metadata": {
        "id": "C9V2h-BBWo_K"
      },
      "id": "C9V2h-BBWo_K"
    },
    {
      "cell_type": "code",
      "source": [
        "def get_day_of_week(day_number):\n",
        "    days = [\"Monday\", \"Tuesday\", \"Wednesday\", \"Thursday\", \"Friday\", \"Saturday\", \"Sunday\"]\n",
        "    if 1 <= day_number <= 7:\n",
        "        return days[day_number - 1]\n",
        "    else:\n",
        "        return \"Invalid day number\"\n",
        "\n",
        "# Test the function\n",
        "day_number = int(input(\"Enter the day number (1-7): \"))\n",
        "day_of_week = get_day_of_week(day_number)\n",
        "print(\"The day of the week is:\", day_of_week)\n"
      ],
      "metadata": {
        "colab": {
          "base_uri": "https://localhost:8080/"
        },
        "id": "gBBbg7LZWsi_",
        "outputId": "60a39b4d-069c-44c7-c260-35599dc662d1"
      },
      "id": "gBBbg7LZWsi_",
      "execution_count": 16,
      "outputs": [
        {
          "output_type": "stream",
          "name": "stdout",
          "text": [
            "Enter the day number (1-7): 6\n",
            "The day of the week is: Saturday\n"
          ]
        }
      ]
    },
    {
      "cell_type": "markdown",
      "source": [
        "Q13. Develop a program that calculates the factorial of a given number using recursion.\n"
      ],
      "metadata": {
        "id": "IbIi4cM4W3US"
      },
      "id": "IbIi4cM4W3US"
    },
    {
      "cell_type": "code",
      "source": [
        "def factorial(n):\n",
        "    if n == 0:\n",
        "        return 1\n",
        "    else:\n",
        "        return n * factorial(n - 1)\n",
        "\n",
        "# Test the function\n",
        "num = int(input(\"Enter a number to calculate its factorial: \"))\n",
        "if num < 0:\n",
        "    print(\"Factorial is not defined for negative numbers.\")\n",
        "else:\n",
        "    result = factorial(num)\n",
        "    print(\"The factorial of\", num, \"is\", result)\n"
      ],
      "metadata": {
        "colab": {
          "base_uri": "https://localhost:8080/"
        },
        "id": "cxZWQIgzW8Ca",
        "outputId": "fab25b0d-2206-46a8-c4c1-cde347b2849c"
      },
      "id": "cxZWQIgzW8Ca",
      "execution_count": 17,
      "outputs": [
        {
          "output_type": "stream",
          "name": "stdout",
          "text": [
            "Enter a number to calculate its factorial: 5\n",
            "The factorial of 5 is 120\n"
          ]
        }
      ]
    },
    {
      "cell_type": "markdown",
      "source": [
        "Q14. Write a program to find the largest among three numbers without using the `max()` function.\n"
      ],
      "metadata": {
        "id": "1HZcFALUW8e8"
      },
      "id": "1HZcFALUW8e8"
    },
    {
      "cell_type": "code",
      "source": [
        "def find_largest(num1, num2, num3):\n",
        "    if num1 >= num2 and num1 >= num3:\n",
        "        return num1\n",
        "    elif num2 >= num1 and num2 >= num3:\n",
        "        return num2\n",
        "    else:\n",
        "        return num3\n",
        "\n",
        "# Test the function\n",
        "num1 = float(input(\"Enter the first number: \"))\n",
        "num2 = float(input(\"Enter the second number: \"))\n",
        "num3 = float(input(\"Enter the third number: \"))\n",
        "\n",
        "largest = find_largest(num1, num2, num3)\n",
        "print(\"The largest number is:\", largest)\n"
      ],
      "metadata": {
        "colab": {
          "base_uri": "https://localhost:8080/"
        },
        "id": "Irv3Fy-pXATe",
        "outputId": "bb026b43-565f-4b20-fc3b-225554a3e845"
      },
      "id": "Irv3Fy-pXATe",
      "execution_count": 18,
      "outputs": [
        {
          "output_type": "stream",
          "name": "stdout",
          "text": [
            "Enter the first number: 6\n",
            "Enter the second number: 4\n",
            "Enter the third number: 3\n",
            "The largest number is: 6.0\n"
          ]
        }
      ]
    },
    {
      "cell_type": "markdown",
      "source": [
        "Q15. Create a program that simulates a basic ATM transaction menu.\n"
      ],
      "metadata": {
        "id": "J7pNeWWqXteT"
      },
      "id": "J7pNeWWqXteT"
    },
    {
      "cell_type": "code",
      "source": [
        "def check_balance(balance):\n",
        "    print(\"Your current balance is: ${:.2f}\".format(balance))\n",
        "\n",
        "def deposit(balance):\n",
        "    amount = float(input(\"Enter the amount to deposit: $\"))\n",
        "    balance += amount\n",
        "    print(\"${:.2f} has been deposited successfully.\".format(amount))\n",
        "    return balance\n",
        "\n",
        "def withdraw(balance):\n",
        "    amount = float(input(\"Enter the amount to withdraw: $\"))\n",
        "    if amount <= balance:\n",
        "        balance -= amount\n",
        "        print(\"${:.2f} has been withdrawn successfully.\".format(amount))\n",
        "    else:\n",
        "        print(\"Insufficient funds!\")\n",
        "    return balance\n",
        "\n",
        "def main():\n",
        "    balance = 1000.00  # Initial balance\n",
        "    while True:\n",
        "        print(\"\\n=== ATM Transaction Menu ===\")\n",
        "        print(\"1. Check Balance\")\n",
        "        print(\"2. Deposit\")\n",
        "        print(\"3. Withdraw\")\n",
        "        print(\"4. Exit\")\n",
        "\n",
        "        choice = input(\"Enter your choice (1-4): \")\n",
        "\n",
        "        if choice == '1':\n",
        "            check_balance(balance)\n",
        "        elif choice == '2':\n",
        "            balance = deposit(balance)\n",
        "        elif choice == '3':\n",
        "            balance = withdraw(balance)\n",
        "        elif choice == '4':\n",
        "            print(\"Thank you for using our ATM. Goodbye!\")\n",
        "            break\n",
        "        else:\n",
        "            print(\"Invalid choice! Please enter a number from 1 to 4.\")\n",
        "\n",
        "if __name__ == \"__main__\":\n",
        "    main()\n"
      ],
      "metadata": {
        "colab": {
          "base_uri": "https://localhost:8080/"
        },
        "id": "JCC1Nd3OXu5g",
        "outputId": "bcddb8ff-1cc4-41bb-e32b-bf7c34123e63"
      },
      "id": "JCC1Nd3OXu5g",
      "execution_count": 19,
      "outputs": [
        {
          "output_type": "stream",
          "name": "stdout",
          "text": [
            "\n",
            "=== ATM Transaction Menu ===\n",
            "1. Check Balance\n",
            "2. Deposit\n",
            "3. Withdraw\n",
            "4. Exit\n",
            "Enter your choice (1-4): 1\n",
            "Your current balance is: $1000.00\n",
            "\n",
            "=== ATM Transaction Menu ===\n",
            "1. Check Balance\n",
            "2. Deposit\n",
            "3. Withdraw\n",
            "4. Exit\n",
            "Enter your choice (1-4): 4\n",
            "Thank you for using our ATM. Goodbye!\n"
          ]
        }
      ]
    },
    {
      "cell_type": "markdown",
      "source": [
        "Q16. Build a program that checks if a given string is a palindrome or not.\n"
      ],
      "metadata": {
        "id": "6acQjZSgX2bX"
      },
      "id": "6acQjZSgX2bX"
    },
    {
      "cell_type": "code",
      "source": [
        "def is_palindrome(s):\n",
        "    # Convert the string to lowercase and remove non-alphanumeric characters\n",
        "    s = ''.join(char.lower() for char in s if char.isalnum())\n",
        "\n",
        "    # Check if the string is equal to its reverse\n",
        "    return s == s[::-1]\n",
        "\n",
        "# Test the function\n",
        "string = input(\"Enter a string to check if it's a palindrome: \")\n",
        "\n",
        "if is_palindrome(string):\n",
        "    print(\"The string is a palindrome.\")\n",
        "else:\n",
        "    print(\"The string is not a palindrome.\")\n"
      ],
      "metadata": {
        "colab": {
          "base_uri": "https://localhost:8080/"
        },
        "id": "W92ZbMUEX-Bw",
        "outputId": "ffee92b1-155a-4953-aeb5-91067b22abcd"
      },
      "id": "W92ZbMUEX-Bw",
      "execution_count": 20,
      "outputs": [
        {
          "output_type": "stream",
          "name": "stdout",
          "text": [
            "Enter a string to check if it's a palindrome: Dansih\n",
            "The string is not a palindrome.\n"
          ]
        }
      ]
    },
    {
      "cell_type": "markdown",
      "source": [
        "Q17. Write a program that calculates the average of a list of numbers, excluding the smallest and largest values.\n"
      ],
      "metadata": {
        "id": "34XyAhz5YDbM"
      },
      "id": "34XyAhz5YDbM"
    },
    {
      "cell_type": "code",
      "source": [
        "def calculate_average(numbers):\n",
        "    if len(numbers) <= 2:\n",
        "        return 0  # Cannot calculate average with less than 3 numbers\n",
        "\n",
        "    # Remove the smallest and largest values from the list\n",
        "    sorted_numbers = sorted(numbers)\n",
        "    trimmed_numbers = sorted_numbers[1:-1]\n",
        "\n",
        "    # Calculate the sum of the trimmed numbers\n",
        "    total = sum(trimmed_numbers)\n",
        "\n",
        "    # Calculate the average\n",
        "    average = total / len(trimmed_numbers)\n",
        "\n",
        "    return average\n",
        "\n",
        "# Test the function\n",
        "numbers = [float(x) for x in input(\"Enter a list of numbers separated by spaces: \").split()]\n",
        "average = calculate_average(numbers)\n",
        "print(\"The average of the list (excluding the smallest and largest values) is:\", average)\n"
      ],
      "metadata": {
        "colab": {
          "base_uri": "https://localhost:8080/"
        },
        "id": "OWkutU4rYKJY",
        "outputId": "30939fa4-518d-49fb-9953-6c9fe7ce9452"
      },
      "id": "OWkutU4rYKJY",
      "execution_count": 22,
      "outputs": [
        {
          "output_type": "stream",
          "name": "stdout",
          "text": [
            "Enter a list of numbers separated by spaces: 1 23 \n",
            "The average of the list (excluding the smallest and largest values) is: 0\n"
          ]
        }
      ]
    },
    {
      "cell_type": "markdown",
      "source": [
        "Q18. Develop a program that converts a given temperature from Celsius to Fahrenheit"
      ],
      "metadata": {
        "id": "74Qp0u1wYaIu"
      },
      "id": "74Qp0u1wYaIu"
    },
    {
      "cell_type": "code",
      "source": [
        "def celsius_to_fahrenheit(celsius):\n",
        "    fahrenheit = (celsius * 9/5) + 32\n",
        "    return fahrenheit\n",
        "\n",
        "# Test the function\n",
        "celsius = float(input(\"Enter the temperature in Celsius: \"))\n",
        "fahrenheit = celsius_to_fahrenheit(celsius)\n",
        "print(\"The temperature in Fahrenheit is:\", fahrenheit)\n"
      ],
      "metadata": {
        "colab": {
          "base_uri": "https://localhost:8080/"
        },
        "id": "jM9dz3O4YajV",
        "outputId": "d5620483-1d6c-4472-86f3-a4b1365ea563"
      },
      "id": "jM9dz3O4YajV",
      "execution_count": 23,
      "outputs": [
        {
          "output_type": "stream",
          "name": "stdout",
          "text": [
            "Enter the temperature in Celsius: 22\n",
            "The temperature in Fahrenheit is: 71.6\n"
          ]
        }
      ]
    },
    {
      "cell_type": "markdown",
      "source": [
        "Q19 Create a program that simulates a basic calculator for addition, subtraction, multiplication, and division.\n"
      ],
      "metadata": {
        "id": "5TxRti_tYl60"
      },
      "id": "5TxRti_tYl60"
    },
    {
      "cell_type": "code",
      "source": [
        "def add(x, y):\n",
        "    return x + y\n",
        "\n",
        "def subtract(x, y):\n",
        "    return x - y\n",
        "\n",
        "def multiply(x, y):\n",
        "    return x * y\n",
        "\n",
        "def divide(x, y):\n",
        "    if y == 0:\n",
        "        return \"Error! Division by zero.\"\n",
        "    else:\n",
        "        return x / y\n",
        "\n",
        "def main():\n",
        "    print(\"=== Basic Calculator ===\")\n",
        "    print(\"Operations:\")\n",
        "    print(\"1. Addition\")\n",
        "    print(\"2. Subtraction\")\n",
        "    print(\"3. Multiplication\")\n",
        "    print(\"4. Division\")\n",
        "\n",
        "    choice = input(\"Enter operation number (1-4): \")\n",
        "\n",
        "    num1 = float(input(\"Enter first number: \"))\n",
        "    num2 = float(input(\"Enter second number: \"))\n",
        "\n",
        "    if choice == '1':\n",
        "        print(\"Result:\", add(num1, num2))\n",
        "    elif choice == '2':\n",
        "        print(\"Result:\", subtract(num1, num2))\n",
        "    elif choice == '3':\n",
        "        print(\"Result:\", multiply(num1, num2))\n",
        "    elif choice == '4':\n",
        "        print(\"Result:\", divide(num1, num2))\n",
        "    else:\n",
        "        print(\"Invalid operation!\")\n",
        "\n",
        "if __name__ == \"__main__\":\n",
        "    main()\n"
      ],
      "metadata": {
        "colab": {
          "base_uri": "https://localhost:8080/"
        },
        "id": "WMXcoBdTYoCS",
        "outputId": "e52cf9db-b8e1-42b9-a8db-92f0a87955ae"
      },
      "id": "WMXcoBdTYoCS",
      "execution_count": 24,
      "outputs": [
        {
          "output_type": "stream",
          "name": "stdout",
          "text": [
            "=== Basic Calculator ===\n",
            "Operations:\n",
            "1. Addition\n",
            "2. Subtraction\n",
            "3. Multiplication\n",
            "4. Division\n",
            "Enter operation number (1-4): 1\n",
            "Enter first number: 2\n",
            "Enter second number: 3\n",
            "Result: 5.0\n"
          ]
        }
      ]
    },
    {
      "cell_type": "markdown",
      "source": [
        "Q20. Write a program that determines the roots of a cubic equation using the Cardano formula.\n"
      ],
      "metadata": {
        "id": "v1vfNUe1Yogx"
      },
      "id": "v1vfNUe1Yogx"
    },
    {
      "cell_type": "code",
      "source": [
        "import math\n",
        "\n",
        "def cubic_roots(a, b, c, d):\n",
        "    # Calculate the discriminant and its cube root\n",
        "    delta = (18 * a * b * c * d) - (4 * b**3 * d) + (b**2 * c**2) - (4 * a * c**3) - (27 * a**2 * d**2)\n",
        "    delta_cubed_root = (delta ** (1/3)) if delta >= 0 else (-(-delta) ** (1/3))\n",
        "\n",
        "    # Calculate other intermediate variables\n",
        "    p = (3 * a * c - b**2) / (3 * a**2)\n",
        "    q = (2 * b**3 - 9 * a * b * c + 27 * a**2 * d) / (27 * a**3)\n",
        "\n",
        "    # Calculate the roots\n",
        "    if delta > 0:\n",
        "        root1 = (-1/3) * (b / a + delta_cubed_root + p / delta_cubed_root)\n",
        "    else:\n",
        "        root1 = (-1/3) * (b / a + delta_cubed_root + p / delta_cubed_root)\n",
        "        root1 += (-1/2) * ((b**2 - 3 * a * c) / (a * delta_cubed_root))\n",
        "        root2 = (-1/3) * (b / a + delta_cubed_root + p / delta_cubed_root)\n",
        "        root2 += (1/2) * ((b**2 - 3 * a * c) / (a * delta_cubed_root))\n",
        "        root3 = (-1/3) * (b / a + delta_cubed_root + p / delta_cubed_root)\n",
        "        root3 += (math.sqrt(3) / 2) * ((b**2 - 3 * a * c) / (a * delta_cubed_root)) * 1j\n",
        "        return root1, root2, root3\n",
        "\n",
        "    return root1\n",
        "\n",
        "# Test the function\n",
        "a = float(input(\"Enter the coefficient of x^3 (a): \"))\n",
        "b = float(input(\"Enter the coefficient of x^2 (b): \"))\n",
        "c = float(input(\"Enter the coefficient of x (c): \"))\n",
        "d = float(input(\"Enter the constant term (d): \"))\n",
        "\n",
        "roots = cubic_roots(a, b, c, d)\n",
        "\n",
        "print(\"Roots of the cubic equation:\")\n",
        "for i, root in enumerate(roots):\n",
        "    print(\"Root\", i+1, \":\", root)\n"
      ],
      "metadata": {
        "colab": {
          "base_uri": "https://localhost:8080/"
        },
        "id": "zYnwdU4MY9DJ",
        "outputId": "8770805c-c2b7-459c-8374-ba889973edd0"
      },
      "id": "zYnwdU4MY9DJ",
      "execution_count": 26,
      "outputs": [
        {
          "output_type": "stream",
          "name": "stdout",
          "text": [
            "Enter the coefficient of x^3 (a): 3\n",
            "Enter the coefficient of x^2 (b): 4\n",
            "Enter the coefficient of x (c): 2\n",
            "Enter the constant term (d): 1\n",
            "Roots of the cubic equation:\n",
            "Root 1 : 1.0308591885292235\n",
            "Root 2 : 1.1749701479176744\n",
            "Root 3 : (1.102914668223449+0.12480375179414582j)\n"
          ]
        }
      ]
    },
    {
      "cell_type": "markdown",
      "source": [
        "# Advanced Level:"
      ],
      "metadata": {
        "id": "Maj8_yecZINp"
      },
      "id": "Maj8_yecZINp"
    },
    {
      "cell_type": "markdown",
      "source": [],
      "metadata": {
        "id": "HgMOjXclZWUB"
      },
      "id": "HgMOjXclZWUB"
    },
    {
      "cell_type": "markdown",
      "source": [
        "Q21. Create a program that calculates the income tax based on the user's income and tax brackets.\n"
      ],
      "metadata": {
        "id": "Q7562AlMZVYX"
      },
      "id": "Q7562AlMZVYX"
    },
    {
      "cell_type": "code",
      "source": [
        "def calculate_tax(income, brackets):\n",
        "    tax = 0\n",
        "    prev_bracket = 0\n",
        "\n",
        "    for bracket, rate in brackets:\n",
        "        if income <= bracket:\n",
        "            tax += (income - prev_bracket) * rate\n",
        "            break\n",
        "        else:\n",
        "            tax += (bracket - prev_bracket) * rate\n",
        "            prev_bracket = bracket\n",
        "\n",
        "    return tax\n",
        "\n",
        "# Test the function\n",
        "income = float(input(\"Enter your income: $\"))\n",
        "\n",
        "# Define tax brackets as a list of tuples (bracket, rate)\n",
        "tax_brackets = [\n",
        "    (10000, 0.10),\n",
        "    (20000, 0.20),\n",
        "    (50000, 0.30),\n",
        "    (100000, 0.40),\n",
        "    (float('inf'), 0.50)\n",
        "]\n",
        "\n",
        "tax = calculate_tax(income, tax_brackets)\n",
        "print(\"Your income tax is: ${:.2f}\".format(tax))\n"
      ],
      "metadata": {
        "colab": {
          "base_uri": "https://localhost:8080/"
        },
        "id": "b4RzO-4VZLE8",
        "outputId": "f1fc5470-3867-4575-d2b4-fad824ac905b"
      },
      "id": "b4RzO-4VZLE8",
      "execution_count": 27,
      "outputs": [
        {
          "output_type": "stream",
          "name": "stdout",
          "text": [
            "Enter your income: $20000\n",
            "Your income tax is: $3000.00\n"
          ]
        }
      ]
    },
    {
      "cell_type": "markdown",
      "source": [
        "Q22. Write a program that simulates a rock-paper-scissors game against the computer.\n"
      ],
      "metadata": {
        "id": "_JwoN9JbZexw"
      },
      "id": "_JwoN9JbZexw"
    },
    {
      "cell_type": "code",
      "source": [
        "import random\n",
        "\n",
        "def play_game(player_choice):\n",
        "    computer_choice = random.choice(['rock', 'paper', 'scissors'])\n",
        "\n",
        "    print(\"Your choice:\", player_choice)\n",
        "    print(\"Computer's choice:\", computer_choice)\n",
        "\n",
        "    if player_choice == computer_choice:\n",
        "        print(\"It's a tie!\")\n",
        "    elif (player_choice == 'rock' and computer_choice == 'scissors') or \\\n",
        "         (player_choice == 'paper' and computer_choice == 'rock') or \\\n",
        "         (player_choice == 'scissors' and computer_choice == 'paper'):\n",
        "        print(\"You win!\")\n",
        "    else:\n",
        "        print(\"Computer wins!\")\n",
        "\n",
        "# Test the game\n",
        "print(\"Welcome to Rock-Paper-Scissors!\")\n",
        "print(\"Choose one: rock, paper, or scissors\")\n",
        "player_choice = input(\"Your choice: \").lower()\n",
        "\n",
        "if player_choice not in ['rock', 'paper', 'scissors']:\n",
        "    print(\"Invalid choice! Please choose either rock, paper, or scissors.\")\n",
        "else:\n",
        "    play_game(player_choice)\n"
      ],
      "metadata": {
        "colab": {
          "base_uri": "https://localhost:8080/"
        },
        "id": "NDkShP7PZixR",
        "outputId": "2c297b6b-e669-4da8-e93b-fad0fcf791c0"
      },
      "id": "NDkShP7PZixR",
      "execution_count": 28,
      "outputs": [
        {
          "output_type": "stream",
          "name": "stdout",
          "text": [
            "Welcome to Rock-Paper-Scissors!\n",
            "Choose one: rock, paper, or scissors\n",
            "Your choice: rock\n",
            "Your choice: rock\n",
            "Computer's choice: scissors\n",
            "You win!\n"
          ]
        }
      ]
    },
    {
      "cell_type": "markdown",
      "source": [
        "Q23. Develop a program that generates a random password based on user preferences (length, complexity).\n"
      ],
      "metadata": {
        "id": "QAQssisWZm_e"
      },
      "id": "QAQssisWZm_e"
    },
    {
      "cell_type": "code",
      "source": [
        "import random\n",
        "import string\n",
        "\n",
        "def generate_password(length, complexity):\n",
        "    if complexity == \"low\":\n",
        "        chars = string.ascii_letters + string.digits\n",
        "    elif complexity == \"medium\":\n",
        "        chars = string.ascii_letters + string.digits + string.punctuation\n",
        "    elif complexity == \"high\":\n",
        "        chars = string.ascii_letters + string.digits + string.punctuation + string.ascii_uppercase + string.ascii_lowercase\n",
        "    else:\n",
        "        print(\"Invalid complexity level. Please choose from 'low', 'medium', or 'high'.\")\n",
        "        return None\n",
        "\n",
        "    password = ''.join(random.choice(chars) for _ in range(length))\n",
        "    return password\n",
        "\n",
        "# Test the function\n",
        "length = int(input(\"Enter the length of the password: \"))\n",
        "complexity = input(\"Enter the complexity level (low, medium, high): \").lower()\n",
        "\n",
        "password = generate_password(length, complexity)\n",
        "if password:\n",
        "    print(\"Generated password:\", password)\n"
      ],
      "metadata": {
        "colab": {
          "base_uri": "https://localhost:8080/"
        },
        "id": "aXjbQiNVZpeM",
        "outputId": "e69652e6-cb3b-4854-80bc-1da115c2c3d8"
      },
      "id": "aXjbQiNVZpeM",
      "execution_count": 30,
      "outputs": [
        {
          "output_type": "stream",
          "name": "stdout",
          "text": [
            "Enter the length of the password: 5\n",
            "Enter the complexity level (low, medium, high): high\n",
            "Generated password: QFL+b\n"
          ]
        }
      ]
    },
    {
      "cell_type": "markdown",
      "source": [
        "Q24. Create a program that implements a simple text-based adventure game with branching scenarios.\n"
      ],
      "metadata": {
        "id": "8b7GxfFQZ3bZ"
      },
      "id": "8b7GxfFQZ3bZ"
    },
    {
      "cell_type": "code",
      "source": [
        "def start_adventure():\n",
        "    print(\"Welcome to the Text-Based Adventure Game!\")\n",
        "    print(\"You find yourself standing at a crossroads.\")\n",
        "\n",
        "    while True:\n",
        "        print(\"\\nWhat do you want to do?\")\n",
        "        print(\"1. Go left\")\n",
        "        print(\"2. Go right\")\n",
        "        print(\"3. Go straight\")\n",
        "        print(\"4. Quit\")\n",
        "\n",
        "        choice = input(\"Enter your choice (1-4): \")\n",
        "\n",
        "        if choice == '1':\n",
        "            go_left()\n",
        "        elif choice == '2':\n",
        "            go_right()\n",
        "        elif choice == '3':\n",
        "            go_straight()\n",
        "        elif choice == '4':\n",
        "            print(\"Thank you for playing! Goodbye!\")\n",
        "            break\n",
        "        else:\n",
        "            print(\"Invalid choice! Please enter a number from 1 to 4.\")\n",
        "\n",
        "def go_left():\n",
        "    print(\"\\nYou chose to go left.\")\n",
        "    print(\"You encounter a spooky forest.\")\n",
        "    print(\"What do you want to do?\")\n",
        "    print(\"1. Explore the forest\")\n",
        "    print(\"2. Turn back\")\n",
        "\n",
        "    choice = input(\"Enter your choice (1-2): \")\n",
        "\n",
        "    if choice == '1':\n",
        "        explore_forest()\n",
        "    elif choice == '2':\n",
        "        print(\"You decide to turn back.\")\n",
        "    else:\n",
        "        print(\"Invalid choice! You stand there feeling indecisive.\")\n",
        "\n",
        "def go_right():\n",
        "    print(\"\\nYou chose to go right.\")\n",
        "    print(\"You come across a peaceful meadow.\")\n",
        "    print(\"What do you want to do?\")\n",
        "    print(\"1. Picnic in the meadow\")\n",
        "    print(\"2. Continue on your journey\")\n",
        "\n",
        "    choice = input(\"Enter your choice (1-2): \")\n",
        "\n",
        "    if choice == '1':\n",
        "        print(\"You enjoy a delightful picnic in the meadow.\")\n",
        "    elif choice == '2':\n",
        "        print(\"You continue on your journey.\")\n",
        "    else:\n",
        "        print(\"Invalid choice! You stand there feeling indecisive.\")\n",
        "\n",
        "def go_straight():\n",
        "    print(\"\\nYou chose to go straight.\")\n",
        "    print(\"You find yourself on a winding path.\")\n",
        "    print(\"What do you want to do?\")\n",
        "    print(\"1. Follow the path\")\n",
        "    print(\"2. Take a rest\")\n",
        "\n",
        "    choice = input(\"Enter your choice (1-2): \")\n",
        "\n",
        "    if choice == '1':\n",
        "        print(\"You follow the winding path.\")\n",
        "        print(\"...\")\n",
        "        print(\"You reach the end of the path.\")\n",
        "    elif choice == '2':\n",
        "        print(\"You decide to take a rest by the side of the path.\")\n",
        "    else:\n",
        "        print(\"Invalid choice! You stand there feeling indecisive.\")\n",
        "\n",
        "def explore_forest():\n",
        "    print(\"\\nYou decide to explore the forest.\")\n",
        "    print(\"You wander deeper into the forest.\")\n",
        "    print(\"...\")\n",
        "    print(\"You discover a hidden treasure!\")\n",
        "    print(\"Congratulations! You win the game.\")\n",
        "\n",
        "# Start the adventure\n",
        "start_adventure()\n"
      ],
      "metadata": {
        "colab": {
          "base_uri": "https://localhost:8080/"
        },
        "id": "FZbcA1i5Z9Sv",
        "outputId": "4380b769-f165-4e16-9989-8b5e2cb183fe"
      },
      "id": "FZbcA1i5Z9Sv",
      "execution_count": 31,
      "outputs": [
        {
          "output_type": "stream",
          "name": "stdout",
          "text": [
            "Welcome to the Text-Based Adventure Game!\n",
            "You find yourself standing at a crossroads.\n",
            "\n",
            "What do you want to do?\n",
            "1. Go left\n",
            "2. Go right\n",
            "3. Go straight\n",
            "4. Quit\n",
            "Enter your choice (1-4): 1\n",
            "\n",
            "You chose to go left.\n",
            "You encounter a spooky forest.\n",
            "What do you want to do?\n",
            "1. Explore the forest\n",
            "2. Turn back\n",
            "Enter your choice (1-2): 2\n",
            "You decide to turn back.\n",
            "\n",
            "What do you want to do?\n",
            "1. Go left\n",
            "2. Go right\n",
            "3. Go straight\n",
            "4. Quit\n",
            "Enter your choice (1-4): 4\n",
            "Thank you for playing! Goodbye!\n"
          ]
        }
      ]
    },
    {
      "cell_type": "markdown",
      "source": [
        "Q25. Build a program that solves a linear equation for x, considering different cases.\n"
      ],
      "metadata": {
        "id": "gbGt56G6aIt0"
      },
      "id": "gbGt56G6aIt0"
    },
    {
      "cell_type": "code",
      "source": [
        "def solve_linear_equation(a, b):\n",
        "    if a == 0:\n",
        "        if b == 0:\n",
        "            print(\"The equation is satisfied for all real numbers.\")\n",
        "        else:\n",
        "            print(\"The equation has no solution.\")\n",
        "    else:\n",
        "        x = -b / a\n",
        "        print(\"The solution to the equation {}x + {} = 0 is x = {}\".format(a, b, x))\n",
        "\n",
        "# Test the function\n",
        "a = float(input(\"Enter the coefficient of x (a): \"))\n",
        "b = float(input(\"Enter the constant term (b): \"))\n",
        "\n",
        "solve_linear_equation(a, b)\n"
      ],
      "metadata": {
        "colab": {
          "base_uri": "https://localhost:8080/"
        },
        "id": "YMdm6fuJaL8K",
        "outputId": "f33501fe-9aca-4c23-dc48-7b6ccf10c2a8"
      },
      "id": "YMdm6fuJaL8K",
      "execution_count": 32,
      "outputs": [
        {
          "output_type": "stream",
          "name": "stdout",
          "text": [
            "Enter the coefficient of x (a): 1\n",
            "Enter the constant term (b): 3\n",
            "The solution to the equation 1.0x + 3.0 = 0 is x = -3.0\n"
          ]
        }
      ]
    },
    {
      "cell_type": "markdown",
      "source": [
        "Q26. Write a program that simulates a basic quiz game with multiple-choice questions and scoring.\n"
      ],
      "metadata": {
        "id": "wI8kHpELaMn8"
      },
      "id": "wI8kHpELaMn8"
    },
    {
      "cell_type": "code",
      "source": [
        "def display_question(question, choices):\n",
        "    print(question)\n",
        "    for i, choice in enumerate(choices, start=1):\n",
        "        print(f\"{i}. {choice}\")\n",
        "    answer = int(input(\"Enter your answer (1-4): \"))\n",
        "    return answer\n",
        "\n",
        "def check_answer(answer, correct_answer):\n",
        "    if answer == correct_answer:\n",
        "        print(\"Correct!\")\n",
        "        return 1\n",
        "    else:\n",
        "        print(\"Incorrect!\")\n",
        "        return 0\n",
        "\n",
        "def main():\n",
        "    print(\"Welcome to the Basic Quiz Game!\")\n",
        "    score = 0\n",
        "\n",
        "    # Define questions and answers\n",
        "    questions = [\n",
        "        \"What is the capital of France?\",\n",
        "        \"Who wrote 'Romeo and Juliet'?\",\n",
        "        \"What is the chemical symbol for water?\",\n",
        "        \"What is the largest planet in our solar system?\"\n",
        "    ]\n",
        "\n",
        "    choices = [\n",
        "        [\"Paris\", \"London\", \"Berlin\", \"Rome\"],\n",
        "        [\"William Shakespeare\", \"Charles Dickens\", \"Jane Austen\", \"Mark Twain\"],\n",
        "        [\"H2O\", \"CO2\", \"NaCl\", \"O2\"],\n",
        "        [\"Jupiter\", \"Saturn\", \"Mars\", \"Earth\"]\n",
        "    ]\n",
        "\n",
        "    answers = [1, 1, 1, 1]  # Correct answers\n",
        "\n",
        "    # Ask questions and update score\n",
        "    for i in range(len(questions)):\n",
        "        print(f\"\\nQuestion {i+1}:\")\n",
        "        answer = display_question(questions[i], choices[i])\n",
        "        score += check_answer(answer, answers[i])\n",
        "\n",
        "    # Display final score\n",
        "    print(\"\\nYour final score is:\", score)\n",
        "\n",
        "if __name__ == \"__main__\":\n",
        "    main()\n"
      ],
      "metadata": {
        "colab": {
          "base_uri": "https://localhost:8080/"
        },
        "id": "Qs4e9NdaaOiE",
        "outputId": "413d781e-251a-408e-ebc3-88661b0a213b"
      },
      "id": "Qs4e9NdaaOiE",
      "execution_count": 33,
      "outputs": [
        {
          "output_type": "stream",
          "name": "stdout",
          "text": [
            "Welcome to the Basic Quiz Game!\n",
            "\n",
            "Question 1:\n",
            "What is the capital of France?\n",
            "1. Paris\n",
            "2. London\n",
            "3. Berlin\n",
            "4. Rome\n",
            "Enter your answer (1-4): 1\n",
            "Correct!\n",
            "\n",
            "Question 2:\n",
            "Who wrote 'Romeo and Juliet'?\n",
            "1. William Shakespeare\n",
            "2. Charles Dickens\n",
            "3. Jane Austen\n",
            "4. Mark Twain\n",
            "Enter your answer (1-4): 4\n",
            "Incorrect!\n",
            "\n",
            "Question 3:\n",
            "What is the chemical symbol for water?\n",
            "1. H2O\n",
            "2. CO2\n",
            "3. NaCl\n",
            "4. O2\n",
            "Enter your answer (1-4): 1\n",
            "Correct!\n",
            "\n",
            "Question 4:\n",
            "What is the largest planet in our solar system?\n",
            "1. Jupiter\n",
            "2. Saturn\n",
            "3. Mars\n",
            "4. Earth\n",
            "Enter your answer (1-4): 1\n",
            "Correct!\n",
            "\n",
            "Your final score is: 3\n"
          ]
        }
      ]
    },
    {
      "cell_type": "markdown",
      "source": [
        "Q27. Develop a program that determines whether a given year is a prime number or not.\n"
      ],
      "metadata": {
        "id": "urMuxXSEaQQD"
      },
      "id": "urMuxXSEaQQD"
    },
    {
      "cell_type": "code",
      "source": [
        "def is_prime(year):\n",
        "    if year <= 1:\n",
        "        return False\n",
        "    elif year <= 3:\n",
        "        return True\n",
        "    elif year % 2 == 0 or year % 3 == 0:\n",
        "        return False\n",
        "    i = 5\n",
        "    while i * i <= year:\n",
        "        if year % i == 0 or year % (i + 2) == 0:\n",
        "            return False\n",
        "        i += 6\n",
        "    return True\n",
        "\n",
        "# Test the function\n",
        "year = int(input(\"Enter a year: \"))\n",
        "if is_prime(year):\n",
        "    print(year, \"is a prime year.\")\n",
        "else:\n",
        "    print(year, \"is not a prime year.\")\n"
      ],
      "metadata": {
        "colab": {
          "base_uri": "https://localhost:8080/"
        },
        "id": "gE2PqZjqaRpF",
        "outputId": "8bef6a71-868f-43c5-cd48-1b515c60e277"
      },
      "id": "gE2PqZjqaRpF",
      "execution_count": 34,
      "outputs": [
        {
          "output_type": "stream",
          "name": "stdout",
          "text": [
            "Enter a year: 5\n",
            "5 is a prime year.\n"
          ]
        }
      ]
    },
    {
      "cell_type": "markdown",
      "source": [
        "Q28. Create a program that sorts three numbers in ascending order using conditional statements.\n"
      ],
      "metadata": {
        "id": "RXd06e0BaTrA"
      },
      "id": "RXd06e0BaTrA"
    },
    {
      "cell_type": "code",
      "source": [
        "def sort_numbers(num1, num2, num3):\n",
        "    if num1 <= num2 and num1 <= num3:\n",
        "        min_num = num1\n",
        "        if num2 <= num3:\n",
        "            mid_num = num2\n",
        "            max_num = num3\n",
        "        else:\n",
        "            mid_num = num3\n",
        "            max_num = num2\n",
        "    elif num2 <= num1 and num2 <= num3:\n",
        "        min_num = num2\n",
        "        if num1 <= num3:\n",
        "            mid_num = num1\n",
        "            max_num = num3\n",
        "        else:\n",
        "            mid_num = num3\n",
        "            max_num = num1\n",
        "    else:\n",
        "        min_num = num3\n",
        "        if num1 <= num2:\n",
        "            mid_num = num1\n",
        "            max_num = num2\n",
        "        else:\n",
        "            mid_num = num2\n",
        "            max_num = num1\n",
        "\n",
        "    return min_num, mid_num, max_num\n",
        "\n",
        "# Test the function\n",
        "num1 = float(input(\"Enter the first number: \"))\n",
        "num2 = float(input(\"Enter the second number: \"))\n",
        "num3 = float(input(\"Enter the third number: \"))\n",
        "\n",
        "sorted_nums = sort_numbers(num1, num2, num3)\n",
        "print(\"Numbers in ascending order:\", sorted_nums)\n"
      ],
      "metadata": {
        "colab": {
          "base_uri": "https://localhost:8080/"
        },
        "id": "DSu40mZzaU96",
        "outputId": "b4cf1d2a-2adb-447b-d07c-09cc06915697"
      },
      "id": "DSu40mZzaU96",
      "execution_count": 35,
      "outputs": [
        {
          "output_type": "stream",
          "name": "stdout",
          "text": [
            "Enter the first number: 2\n",
            "Enter the second number: 3\n",
            "Enter the third number: 4\n",
            "Numbers in ascending order: (2.0, 3.0, 4.0)\n"
          ]
        }
      ]
    },
    {
      "cell_type": "markdown",
      "source": [
        "Q29. Build a program that determines the roots of a quartic equation using numerical methods.\n"
      ],
      "metadata": {
        "id": "sy7Zmvj7aVZ4"
      },
      "id": "sy7Zmvj7aVZ4"
    },
    {
      "cell_type": "code",
      "source": [
        "def quartic_equation(coefficients, initial_guess, tolerance=1e-6, max_iterations=1000):\n",
        "    def f(x):\n",
        "        return sum(coef * x ** i for i, coef in enumerate(coefficients[::-1]))\n",
        "\n",
        "    def df(x):\n",
        "        return sum((i + 1) * coef * x ** i for i, coef in enumerate(coefficients[::-1][:-1]))\n",
        "\n",
        "    x = initial_guess\n",
        "    for _ in range(max_iterations):\n",
        "        fx = f(x)\n",
        "        if abs(fx) < tolerance:\n",
        "            return x\n",
        "        dfx = df(x)\n",
        "        if dfx == 0:\n",
        "            return None\n",
        "        x = x - fx / dfx\n",
        "\n",
        "    return None\n",
        "\n",
        "# Test the function\n",
        "coefficients = [1, -10, 35, -50, 24]  # coefficients of the quartic equation in descending order\n",
        "initial_guess = 1.0\n",
        "root = quartic_equation(coefficients, initial_guess)\n",
        "\n",
        "if root is not None:\n",
        "    print(\"Approximate root of the quartic equation:\", root)\n",
        "else:\n",
        "    print(\"Unable to find root within the given tolerance or maximum iterations.\")\n"
      ],
      "metadata": {
        "colab": {
          "base_uri": "https://localhost:8080/"
        },
        "id": "Him7G5ilaYJF",
        "outputId": "82ee23cf-0748-477f-efa0-ba7ce310858f"
      },
      "id": "Him7G5ilaYJF",
      "execution_count": 37,
      "outputs": [
        {
          "output_type": "stream",
          "name": "stdout",
          "text": [
            "Approximate root of the quartic equation: 1.0\n"
          ]
        }
      ]
    },
    {
      "cell_type": "markdown",
      "source": [
        "Q30. Write a program that calculates the BMI (Body Mass Index) and provides health recommendations based\n",
        "on the user's input"
      ],
      "metadata": {
        "id": "vKMQco01aYoH"
      },
      "id": "vKMQco01aYoH"
    },
    {
      "cell_type": "code",
      "source": [
        "def calculate_bmi(weight, height):\n",
        "    bmi = weight / (height ** 2)\n",
        "    return bmi\n",
        "\n",
        "def get_health_recommendation(bmi):\n",
        "    if bmi < 18.5:\n",
        "        return \"You are underweight. It's important to ensure you are consuming enough calories and nutrients to reach a healthy weight.\"\n",
        "    elif 18.5 <= bmi < 25:\n",
        "        return \"Your weight is within the healthy range. Keep up the good work!\"\n",
        "    elif 25 <= bmi < 30:\n",
        "        return \"You are overweight. Consider incorporating more exercise and a balanced diet into your routine.\"\n",
        "    else:\n",
        "        return \"You are obese. It's important to consult with a healthcare professional to create a plan for weight management.\"\n",
        "\n",
        "def main():\n",
        "    print(\"Welcome to the BMI Calculator!\")\n",
        "    weight = float(input(\"Enter your weight in kilograms: \"))\n",
        "    height = float(input(\"Enter your height in meters: \"))\n",
        "\n",
        "    bmi = calculate_bmi(weight, height)\n",
        "    print(\"Your BMI is:\", bmi)\n",
        "\n",
        "    recommendation = get_health_recommendation(bmi)\n",
        "    print(\"Health recommendation:\", recommendation)\n",
        "\n",
        "if __name__ == \"__main__\":\n",
        "    main()\n"
      ],
      "metadata": {
        "colab": {
          "base_uri": "https://localhost:8080/"
        },
        "id": "e9HNwyUHab_3",
        "outputId": "13a22dea-7478-4ae9-ac8c-c45ecb62e443"
      },
      "id": "e9HNwyUHab_3",
      "execution_count": 38,
      "outputs": [
        {
          "output_type": "stream",
          "name": "stdout",
          "text": [
            "Welcome to the BMI Calculator!\n",
            "Enter your weight in kilograms: 49\n",
            "Enter your height in meters: 5\n",
            "Your BMI is: 1.96\n",
            "Health recommendation: You are underweight. It's important to ensure you are consuming enough calories and nutrients to reach a healthy weight.\n"
          ]
        }
      ]
    },
    {
      "cell_type": "markdown",
      "source": [
        "# Challenge Level:\n"
      ],
      "metadata": {
        "id": "lGkKIlz0cEZC"
      },
      "id": "lGkKIlz0cEZC"
    },
    {
      "cell_type": "markdown",
      "source": [
        "Q31. Create a program that validates a password based on complexity rules (length, characters, etc.).\n"
      ],
      "metadata": {
        "id": "aiJYiAGHcM3f"
      },
      "id": "aiJYiAGHcM3f"
    },
    {
      "cell_type": "code",
      "source": [
        "import re\n",
        "\n",
        "def validate_password(password):\n",
        "    # Check length\n",
        "    if len(password) < 8:\n",
        "        return \"Password must be at least 8 characters long.\"\n",
        "\n",
        "    # Check for uppercase, lowercase, digits, and special characters\n",
        "    if not re.search(r\"[A-Z]\", password):\n",
        "        return \"Password must contain at least one uppercase letter.\"\n",
        "    if not re.search(r\"[a-z]\", password):\n",
        "        return \"Password must contain at least one lowercase letter.\"\n",
        "    if not re.search(r\"\\d\", password):\n",
        "        return \"Password must contain at least one digit.\"\n",
        "    if not re.search(r\"[!@#$%^&*()-+=]\", password):\n",
        "        return \"Password must contain at least one special character (!@#$%^&*()-+=).\"\n",
        "\n",
        "    return \"Password is valid.\"\n",
        "\n",
        "# Test the function\n",
        "password = input(\"Enter a password: \")\n",
        "result = validate_password(password)\n",
        "print(result)\n"
      ],
      "metadata": {
        "colab": {
          "base_uri": "https://localhost:8080/"
        },
        "id": "Z5FX06dAcIe-",
        "outputId": "d3e865cc-4ecd-4dda-c828-46d6a67ec532"
      },
      "id": "Z5FX06dAcIe-",
      "execution_count": 39,
      "outputs": [
        {
          "output_type": "stream",
          "name": "stdout",
          "text": [
            "Enter a password: D@nish\n",
            "Password must be at least 8 characters long.\n"
          ]
        }
      ]
    },
    {
      "cell_type": "markdown",
      "source": [
        "Q32. Develop a program that performs matrix addition and subtraction based on user input.\n"
      ],
      "metadata": {
        "id": "-WR-aQT3cOSj"
      },
      "id": "-WR-aQT3cOSj"
    },
    {
      "cell_type": "code",
      "source": [
        "def add_matrices(matrix1, matrix2):\n",
        "    result = []\n",
        "    for i in range(len(matrix1)):\n",
        "        row = []\n",
        "        for j in range(len(matrix1[0])):\n",
        "            row.append(matrix1[i][j] + matrix2[i][j])\n",
        "        result.append(row)\n",
        "    return result\n",
        "\n",
        "def subtract_matrices(matrix1, matrix2):\n",
        "    result = []\n",
        "    for i in range(len(matrix1)):\n",
        "        row = []\n",
        "        for j in range(len(matrix1[0])):\n",
        "            row.append(matrix1[i][j] - matrix2[i][j])\n",
        "        result.append(row)\n",
        "    return result\n",
        "\n",
        "def input_matrix(rows, cols):\n",
        "    matrix = []\n",
        "    print(\"Enter the elements row-wise:\")\n",
        "    for i in range(rows):\n",
        "        row = []\n",
        "        for j in range(cols):\n",
        "            element = float(input(f\"Enter element at position ({i+1}, {j+1}): \"))\n",
        "            row.append(element)\n",
        "        matrix.append(row)\n",
        "    return matrix\n",
        "\n",
        "def print_matrix(matrix):\n",
        "    for row in matrix:\n",
        "        print(row)\n",
        "\n",
        "# Get input from user for dimensions of matrices\n",
        "rows = int(input(\"Enter the number of rows: \"))\n",
        "cols = int(input(\"Enter the number of columns: \"))\n",
        "\n",
        "print(\"Enter elements for the first matrix:\")\n",
        "matrix1 = input_matrix(rows, cols)\n",
        "\n",
        "print(\"Enter elements for the second matrix:\")\n",
        "matrix2 = input_matrix(rows, cols)\n",
        "\n",
        "print(\"Matrix 1:\")\n",
        "print_matrix(matrix1)\n",
        "\n",
        "print(\"Matrix 2:\")\n",
        "print_matrix(matrix2)\n",
        "\n",
        "# Perform addition and subtraction\n",
        "addition_result = add_matrices(matrix1, matrix2)\n",
        "subtraction_result = subtract_matrices(matrix1, matrix2)\n",
        "\n",
        "# Print results\n",
        "print(\"Matrix Addition:\")\n",
        "print_matrix(addition_result)\n",
        "\n",
        "print(\"Matrix Subtraction:\")\n",
        "print_matrix(subtraction_result)\n"
      ],
      "metadata": {
        "colab": {
          "base_uri": "https://localhost:8080/"
        },
        "id": "QFyn5YG4dGYI",
        "outputId": "994bf746-0b08-4d6f-96c2-d1c77ecf69b0"
      },
      "id": "QFyn5YG4dGYI",
      "execution_count": 40,
      "outputs": [
        {
          "output_type": "stream",
          "name": "stdout",
          "text": [
            "Enter the number of rows: 2\n",
            "Enter the number of columns: 2\n",
            "Enter elements for the first matrix:\n",
            "Enter the elements row-wise:\n",
            "Enter element at position (1, 1): 1\n",
            "Enter element at position (1, 2): 2\n",
            "Enter element at position (2, 1): 1\n",
            "Enter element at position (2, 2): 3\n",
            "Enter elements for the second matrix:\n",
            "Enter the elements row-wise:\n",
            "Enter element at position (1, 1): 3\n",
            "Enter element at position (1, 2): 3\n",
            "Enter element at position (2, 1): 3\n",
            "Enter element at position (2, 2): 3\n",
            "Matrix 1:\n",
            "[1.0, 2.0]\n",
            "[1.0, 3.0]\n",
            "Matrix 2:\n",
            "[3.0, 3.0]\n",
            "[3.0, 3.0]\n",
            "Matrix Addition:\n",
            "[4.0, 5.0]\n",
            "[4.0, 6.0]\n",
            "Matrix Subtraction:\n",
            "[-2.0, -1.0]\n",
            "[-2.0, 0.0]\n"
          ]
        }
      ]
    },
    {
      "cell_type": "markdown",
      "source": [
        "Q33. Write a program that calculates the greatest common divisor (GCD) of two numbers using the Euclidean\n",
        "algorithm.\n"
      ],
      "metadata": {
        "id": "whgMcmT1cTIX"
      },
      "id": "whgMcmT1cTIX"
    },
    {
      "cell_type": "code",
      "source": [
        "def gcd_euclidean(a, b):\n",
        "    while b != 0:\n",
        "        a, b = b, a % b\n",
        "    return a\n",
        "\n",
        "# Test the function\n",
        "num1 = int(input(\"Enter the first number: \"))\n",
        "num2 = int(input(\"Enter the second number: \"))\n",
        "\n",
        "gcd = gcd_euclidean(num1, num2)\n",
        "print(\"The greatest common divisor (GCD) of\", num1, \"and\", num2, \"is:\", gcd)\n",
        "\n"
      ],
      "metadata": {
        "colab": {
          "base_uri": "https://localhost:8080/"
        },
        "id": "eh7zHWcddYJ4",
        "outputId": "9105e310-0248-4992-ee69-3f3fdb02e7ca"
      },
      "id": "eh7zHWcddYJ4",
      "execution_count": 41,
      "outputs": [
        {
          "output_type": "stream",
          "name": "stdout",
          "text": [
            "Enter the first number: 3\n",
            "Enter the second number: 3\n",
            "The greatest common divisor (GCD) of 3 and 3 is: 3\n"
          ]
        }
      ]
    },
    {
      "cell_type": "markdown",
      "source": [
        "Q34. Build a program that performs matrix multiplication using nested loops and conditional statements"
      ],
      "metadata": {
        "id": "T6KhYGH3cXB-"
      },
      "id": "T6KhYGH3cXB-"
    },
    {
      "cell_type": "code",
      "source": [
        "def matrix_multiplication(matrix1, matrix2):\n",
        "    if len(matrix1[0]) != len(matrix2):\n",
        "        print(\"Error: Number of columns in the first matrix must be equal to the number of rows in the second matrix.\")\n",
        "        return None\n",
        "\n",
        "    result = []\n",
        "    for i in range(len(matrix1)):\n",
        "        row = []\n",
        "        for j in range(len(matrix2[0])):\n",
        "            element = 0\n",
        "            for k in range(len(matrix2)):\n",
        "                element += matrix1[i][k] * matrix2[k][j]\n",
        "            row.append(element)\n",
        "        result.append(row)\n",
        "    return result\n",
        "\n",
        "def input_matrix(rows, cols):\n",
        "    matrix = []\n",
        "    print(\"Enter the elements row-wise:\")\n",
        "    for i in range(rows):\n",
        "        row = []\n",
        "        for j in range(cols):\n",
        "            element = float(input(f\"Enter element at position ({i+1}, {j+1}): \"))\n",
        "            row.append(element)\n",
        "        matrix.append(row)\n",
        "    return matrix\n",
        "\n",
        "def print_matrix(matrix):\n",
        "    for row in matrix:\n",
        "        print(row)\n",
        "\n",
        "# Get input from user for dimensions of matrices\n",
        "rows1 = int(input(\"Enter the number of rows for the first matrix: \"))\n",
        "cols1 = int(input(\"Enter the number of columns for the first matrix: \"))\n",
        "\n",
        "rows2 = int(input(\"Enter the number of rows for the second matrix: \"))\n",
        "cols2 = int(input(\"Enter the number of columns for the second matrix: \"))\n",
        "\n",
        "print(\"Enter elements for the first matrix:\")\n",
        "matrix1 = input_matrix(rows1, cols1)\n",
        "\n",
        "print(\"Enter elements for the second matrix:\")\n",
        "matrix2 = input_matrix(rows2, cols2)\n",
        "\n",
        "print(\"Matrix 1:\")\n",
        "print_matrix(matrix1)\n",
        "\n",
        "print(\"Matrix 2:\")\n",
        "print_matrix(matrix2)\n",
        "\n",
        "# Perform matrix multiplication\n",
        "result = matrix_multiplication(matrix1, matrix2)\n",
        "\n",
        "# Print result\n",
        "if result:\n",
        "    print(\"Matrix Multiplication Result:\")\n",
        "    print_matrix(result)\n"
      ],
      "metadata": {
        "colab": {
          "base_uri": "https://localhost:8080/"
        },
        "id": "cER9Sb3ydjQq",
        "outputId": "32dc7989-7d81-4c02-93c4-50198d484fd4"
      },
      "id": "cER9Sb3ydjQq",
      "execution_count": 42,
      "outputs": [
        {
          "output_type": "stream",
          "name": "stdout",
          "text": [
            "Enter the number of rows for the first matrix: 3\n",
            "Enter the number of columns for the first matrix: 3\n",
            "Enter the number of rows for the second matrix: 2\n",
            "Enter the number of columns for the second matrix: 2\n",
            "Enter elements for the first matrix:\n",
            "Enter the elements row-wise:\n",
            "Enter element at position (1, 1): 1\n",
            "Enter element at position (1, 2): 2\n",
            "Enter element at position (1, 3): 1\n",
            "Enter element at position (2, 1): 4\n",
            "Enter element at position (2, 2): 5\n",
            "Enter element at position (2, 3): 6\n",
            "Enter element at position (3, 1): 6\n",
            "Enter element at position (3, 2): 6\n",
            "Enter element at position (3, 3): 4\n",
            "Enter elements for the second matrix:\n",
            "Enter the elements row-wise:\n",
            "Enter element at position (1, 1): 5\n",
            "Enter element at position (1, 2): 5\n",
            "Enter element at position (2, 1): 6\n",
            "Enter element at position (2, 2): 6\n",
            "Matrix 1:\n",
            "[1.0, 2.0, 1.0]\n",
            "[4.0, 5.0, 6.0]\n",
            "[6.0, 6.0, 4.0]\n",
            "Matrix 2:\n",
            "[5.0, 5.0]\n",
            "[6.0, 6.0]\n",
            "Error: Number of columns in the first matrix must be equal to the number of rows in the second matrix.\n"
          ]
        }
      ]
    },
    {
      "cell_type": "markdown",
      "source": [
        "Q35. Create a program that simulates a basic text-based tic-tac-toe game against the computer.\n"
      ],
      "metadata": {
        "id": "HAInarEBcas2"
      },
      "id": "HAInarEBcas2"
    },
    {
      "cell_type": "code",
      "source": [
        "import random\n",
        "\n",
        "def print_board(board):\n",
        "    for row in board:\n",
        "        print(\" | \".join(row))\n",
        "        print(\"-\" * 9)\n",
        "\n",
        "def check_winner(board, player):\n",
        "    # Check rows, columns, and diagonals\n",
        "    for i in range(3):\n",
        "        if all(board[i][j] == player for j in range(3)):\n",
        "            return True\n",
        "        if all(board[j][i] == player for j in range(3)):\n",
        "            return True\n",
        "    if all(board[i][i] == player for i in range(3)):\n",
        "        return True\n",
        "    if all(board[i][2 - i] == player for i in range(3)):\n",
        "        return True\n",
        "    return False\n",
        "\n",
        "def get_empty_cells(board):\n",
        "    return [(i, j) for i in range(3) for j in range(3) if board[i][j] == \" \"]\n",
        "\n",
        "def computer_move(board):\n",
        "    empty_cells = get_empty_cells(board)\n",
        "    return random.choice(empty_cells)\n",
        "\n",
        "def play_game():\n",
        "    board = [[\" \" for _ in range(3)] for _ in range(3)]\n",
        "    player = \"X\"\n",
        "    winner = None\n",
        "\n",
        "    print(\"Welcome to Tic-Tac-Toe!\")\n",
        "    print_board(board)\n",
        "\n",
        "    while not winner:\n",
        "        if player == \"X\":\n",
        "            row, col = map(int, input(\"Enter row and column (1-3) for your move (separated by space): \").split())\n",
        "            row -= 1\n",
        "            col -= 1\n",
        "            if board[row][col] != \" \":\n",
        "                print(\"Invalid move! That cell is already taken.\")\n",
        "                continue\n",
        "            board[row][col] = \"X\"\n",
        "        else:\n",
        "            print(\"Computer's turn:\")\n",
        "            row, col = computer_move(board)\n",
        "            board[row][col] = \"O\"\n",
        "            print(f\"Computer placed 'O' at position ({row + 1}, {col + 1})\")\n",
        "\n",
        "        print_board(board)\n",
        "\n",
        "        if check_winner(board, player):\n",
        "            winner = player\n",
        "            print(f\"Player {player} wins!\")\n",
        "            break\n",
        "        elif all(all(cell != \" \" for cell in row) for row in board):\n",
        "            print(\"It's a tie!\")\n",
        "            break\n",
        "\n",
        "        player = \"O\" if player == \"X\" else \"X\"\n",
        "\n",
        "if __name__ == \"__main__\":\n",
        "    play_game()\n"
      ],
      "metadata": {
        "colab": {
          "base_uri": "https://localhost:8080/",
          "height": 993
        },
        "id": "kkKQ9eP3dzRL",
        "outputId": "e1f4b96b-aa5d-4a60-8caa-c6f034277450"
      },
      "id": "kkKQ9eP3dzRL",
      "execution_count": 46,
      "outputs": [
        {
          "output_type": "stream",
          "name": "stdout",
          "text": [
            "Welcome to Tic-Tac-Toe!\n",
            "  |   |  \n",
            "---------\n",
            "  |   |  \n",
            "---------\n",
            "  |   |  \n",
            "---------\n",
            "X |   |  \n",
            "---------\n",
            "  |   |  \n",
            "---------\n",
            "  |   |  \n",
            "---------\n",
            "Computer's turn:\n",
            "Computer placed 'O' at position (3, 3)\n",
            "X |   |  \n",
            "---------\n",
            "  |   |  \n",
            "---------\n",
            "  |   | O\n",
            "---------\n",
            "Enter row and column (1-3) for your move (separated by space): 2 1\n",
            "X |   |  \n",
            "---------\n",
            "X |   |  \n",
            "---------\n",
            "  |   | O\n",
            "---------\n",
            "Computer's turn:\n",
            "Computer placed 'O' at position (1, 3)\n",
            "X |   | O\n",
            "---------\n",
            "X |   |  \n",
            "---------\n",
            "  |   | O\n",
            "---------\n"
          ]
        },
        {
          "output_type": "error",
          "ename": "KeyboardInterrupt",
          "evalue": "Interrupted by user",
          "traceback": [
            "\u001b[0;31m---------------------------------------------------------------------------\u001b[0m",
            "\u001b[0;31mKeyboardInterrupt\u001b[0m                         Traceback (most recent call last)",
            "\u001b[0;32m<ipython-input-46-9e6bc47e5b7b>\u001b[0m in \u001b[0;36m<cell line: 63>\u001b[0;34m()\u001b[0m\n\u001b[1;32m     62\u001b[0m \u001b[0;34m\u001b[0m\u001b[0m\n\u001b[1;32m     63\u001b[0m \u001b[0;32mif\u001b[0m \u001b[0m__name__\u001b[0m \u001b[0;34m==\u001b[0m \u001b[0;34m\"__main__\"\u001b[0m\u001b[0;34m:\u001b[0m\u001b[0;34m\u001b[0m\u001b[0;34m\u001b[0m\u001b[0m\n\u001b[0;32m---> 64\u001b[0;31m     \u001b[0mplay_game\u001b[0m\u001b[0;34m(\u001b[0m\u001b[0;34m)\u001b[0m\u001b[0;34m\u001b[0m\u001b[0;34m\u001b[0m\u001b[0m\n\u001b[0m",
            "\u001b[0;32m<ipython-input-46-9e6bc47e5b7b>\u001b[0m in \u001b[0;36mplay_game\u001b[0;34m()\u001b[0m\n\u001b[1;32m     36\u001b[0m     \u001b[0;32mwhile\u001b[0m \u001b[0;32mnot\u001b[0m \u001b[0mwinner\u001b[0m\u001b[0;34m:\u001b[0m\u001b[0;34m\u001b[0m\u001b[0;34m\u001b[0m\u001b[0m\n\u001b[1;32m     37\u001b[0m         \u001b[0;32mif\u001b[0m \u001b[0mplayer\u001b[0m \u001b[0;34m==\u001b[0m \u001b[0;34m\"X\"\u001b[0m\u001b[0;34m:\u001b[0m\u001b[0;34m\u001b[0m\u001b[0;34m\u001b[0m\u001b[0m\n\u001b[0;32m---> 38\u001b[0;31m             \u001b[0mrow\u001b[0m\u001b[0;34m,\u001b[0m \u001b[0mcol\u001b[0m \u001b[0;34m=\u001b[0m \u001b[0mmap\u001b[0m\u001b[0;34m(\u001b[0m\u001b[0mint\u001b[0m\u001b[0;34m,\u001b[0m \u001b[0minput\u001b[0m\u001b[0;34m(\u001b[0m\u001b[0;34m\"Enter row and column (1-3) for your move (separated by space): \"\u001b[0m\u001b[0;34m)\u001b[0m\u001b[0;34m.\u001b[0m\u001b[0msplit\u001b[0m\u001b[0;34m(\u001b[0m\u001b[0;34m)\u001b[0m\u001b[0;34m)\u001b[0m\u001b[0;34m\u001b[0m\u001b[0;34m\u001b[0m\u001b[0m\n\u001b[0m\u001b[1;32m     39\u001b[0m             \u001b[0mrow\u001b[0m \u001b[0;34m-=\u001b[0m \u001b[0;36m1\u001b[0m\u001b[0;34m\u001b[0m\u001b[0;34m\u001b[0m\u001b[0m\n\u001b[1;32m     40\u001b[0m             \u001b[0mcol\u001b[0m \u001b[0;34m-=\u001b[0m \u001b[0;36m1\u001b[0m\u001b[0;34m\u001b[0m\u001b[0;34m\u001b[0m\u001b[0m\n",
            "\u001b[0;32m/usr/local/lib/python3.10/dist-packages/ipykernel/kernelbase.py\u001b[0m in \u001b[0;36mraw_input\u001b[0;34m(self, prompt)\u001b[0m\n\u001b[1;32m    849\u001b[0m                 \u001b[0;34m\"raw_input was called, but this frontend does not support input requests.\"\u001b[0m\u001b[0;34m\u001b[0m\u001b[0;34m\u001b[0m\u001b[0m\n\u001b[1;32m    850\u001b[0m             )\n\u001b[0;32m--> 851\u001b[0;31m         return self._input_request(str(prompt),\n\u001b[0m\u001b[1;32m    852\u001b[0m             \u001b[0mself\u001b[0m\u001b[0;34m.\u001b[0m\u001b[0m_parent_ident\u001b[0m\u001b[0;34m,\u001b[0m\u001b[0;34m\u001b[0m\u001b[0;34m\u001b[0m\u001b[0m\n\u001b[1;32m    853\u001b[0m             \u001b[0mself\u001b[0m\u001b[0;34m.\u001b[0m\u001b[0m_parent_header\u001b[0m\u001b[0;34m,\u001b[0m\u001b[0;34m\u001b[0m\u001b[0;34m\u001b[0m\u001b[0m\n",
            "\u001b[0;32m/usr/local/lib/python3.10/dist-packages/ipykernel/kernelbase.py\u001b[0m in \u001b[0;36m_input_request\u001b[0;34m(self, prompt, ident, parent, password)\u001b[0m\n\u001b[1;32m    893\u001b[0m             \u001b[0;32mexcept\u001b[0m \u001b[0mKeyboardInterrupt\u001b[0m\u001b[0;34m:\u001b[0m\u001b[0;34m\u001b[0m\u001b[0;34m\u001b[0m\u001b[0m\n\u001b[1;32m    894\u001b[0m                 \u001b[0;31m# re-raise KeyboardInterrupt, to truncate traceback\u001b[0m\u001b[0;34m\u001b[0m\u001b[0;34m\u001b[0m\u001b[0m\n\u001b[0;32m--> 895\u001b[0;31m                 \u001b[0;32mraise\u001b[0m \u001b[0mKeyboardInterrupt\u001b[0m\u001b[0;34m(\u001b[0m\u001b[0;34m\"Interrupted by user\"\u001b[0m\u001b[0;34m)\u001b[0m \u001b[0;32mfrom\u001b[0m \u001b[0;32mNone\u001b[0m\u001b[0;34m\u001b[0m\u001b[0;34m\u001b[0m\u001b[0m\n\u001b[0m\u001b[1;32m    896\u001b[0m             \u001b[0;32mexcept\u001b[0m \u001b[0mException\u001b[0m \u001b[0;32mas\u001b[0m \u001b[0me\u001b[0m\u001b[0;34m:\u001b[0m\u001b[0;34m\u001b[0m\u001b[0;34m\u001b[0m\u001b[0m\n\u001b[1;32m    897\u001b[0m                 \u001b[0mself\u001b[0m\u001b[0;34m.\u001b[0m\u001b[0mlog\u001b[0m\u001b[0;34m.\u001b[0m\u001b[0mwarning\u001b[0m\u001b[0;34m(\u001b[0m\u001b[0;34m\"Invalid Message:\"\u001b[0m\u001b[0;34m,\u001b[0m \u001b[0mexc_info\u001b[0m\u001b[0;34m=\u001b[0m\u001b[0;32mTrue\u001b[0m\u001b[0;34m)\u001b[0m\u001b[0;34m\u001b[0m\u001b[0;34m\u001b[0m\u001b[0m\n",
            "\u001b[0;31mKeyboardInterrupt\u001b[0m: Interrupted by user"
          ]
        }
      ]
    },
    {
      "cell_type": "markdown",
      "source": [
        "Q36. Write a program that generates Fibonacci numbers up to a specified term using iterative methods.\n"
      ],
      "metadata": {
        "id": "FVIjNA2Xchzo"
      },
      "id": "FVIjNA2Xchzo"
    },
    {
      "cell_type": "code",
      "source": [
        "def generate_fibonacci(n):\n",
        "    fibonacci_sequence = [0, 1]\n",
        "\n",
        "    if n <= 1:\n",
        "        return fibonacci_sequence[:n + 1]\n",
        "\n",
        "    for i in range(2, n + 1):\n",
        "        next_fibonacci = fibonacci_sequence[i - 1] + fibonacci_sequence[i - 2]\n",
        "        fibonacci_sequence.append(next_fibonacci)\n",
        "\n",
        "    return fibonacci_sequence\n",
        "\n",
        "# Test the function\n",
        "term = int(input(\"Enter the number of Fibonacci terms to generate: \"))\n",
        "\n",
        "fibonacci_sequence = generate_fibonacci(term)\n",
        "print(\"Fibonacci sequence up to term\", term, \":\", fibonacci_sequence)\n"
      ],
      "metadata": {
        "colab": {
          "base_uri": "https://localhost:8080/"
        },
        "id": "WRGGKAw9eaTW",
        "outputId": "26624ad3-e28b-4efa-b700-20ae78615853"
      },
      "id": "WRGGKAw9eaTW",
      "execution_count": 47,
      "outputs": [
        {
          "output_type": "stream",
          "name": "stdout",
          "text": [
            "Enter the number of Fibonacci terms to generate: 6\n",
            "Fibonacci sequence up to term 6 : [0, 1, 1, 2, 3, 5, 8]\n"
          ]
        }
      ]
    },
    {
      "cell_type": "markdown",
      "source": [
        "Q37. Develop a program that calculates the nth term of the Fibonacci sequence using memoization.\n"
      ],
      "metadata": {
        "id": "-Fp0Sw5WckTV"
      },
      "id": "-Fp0Sw5WckTV"
    },
    {
      "cell_type": "code",
      "source": [
        "def fibonacci(n, memo={}):\n",
        "    if n in memo:\n",
        "        return memo[n]\n",
        "    if n <= 1:\n",
        "        return n\n",
        "    memo[n] = fibonacci(n - 1, memo) + fibonacci(n - 2, memo)\n",
        "    return memo[n]\n",
        "\n",
        "# Test the function\n",
        "term = int(input(\"Enter the value of n for the nth Fibonacci term: \"))\n",
        "\n",
        "fibonacci_term = fibonacci(term)\n",
        "print(\"The\", term, \"th Fibonacci term is:\", fibonacci_term)\n"
      ],
      "metadata": {
        "colab": {
          "base_uri": "https://localhost:8080/"
        },
        "id": "dgxLnWTXfSJu",
        "outputId": "a23907e4-4e0c-43eb-91d8-0837e57de82a"
      },
      "id": "dgxLnWTXfSJu",
      "execution_count": 48,
      "outputs": [
        {
          "output_type": "stream",
          "name": "stdout",
          "text": [
            "Enter the value of n for the nth Fibonacci term: 6\n",
            "The 6 th Fibonacci term is: 8\n"
          ]
        }
      ]
    },
    {
      "cell_type": "markdown",
      "source": [
        "Q38. Create a program that generates a calendar for a given month and year using conditional statements.\n"
      ],
      "metadata": {
        "id": "lH5gDYb4cmN8"
      },
      "id": "lH5gDYb4cmN8"
    },
    {
      "cell_type": "code",
      "source": [
        "import calendar\n",
        "\n",
        "def generate_calendar(year, month):\n",
        "    cal = calendar.monthcalendar(year, month)\n",
        "    weeks = len(cal)\n",
        "\n",
        "    # Print month and year\n",
        "    print(calendar.month_name[month], year)\n",
        "    print(\"Mo Tu We Th Fr Sa Su\")\n",
        "\n",
        "    # Print calendar\n",
        "    for week in cal:\n",
        "        for day in week:\n",
        "            if day == 0:\n",
        "                print(\"  \", end=\" \")\n",
        "            else:\n",
        "                print(f\"{day:2}\", end=\" \")\n",
        "        print()\n",
        "\n",
        "# Test the function\n",
        "year = int(input(\"Enter the year: \"))\n",
        "month = int(input(\"Enter the month (1-12): \"))\n",
        "\n",
        "generate_calendar(year, month)\n"
      ],
      "metadata": {
        "colab": {
          "base_uri": "https://localhost:8080/"
        },
        "id": "6se9684VfevH",
        "outputId": "5b837c18-a338-4ea2-dff1-c58900e955e1"
      },
      "id": "6se9684VfevH",
      "execution_count": 49,
      "outputs": [
        {
          "output_type": "stream",
          "name": "stdout",
          "text": [
            "Enter the year: 2010\n",
            "Enter the month (1-12): 1\n",
            "January 2010\n",
            "Mo Tu We Th Fr Sa Su\n",
            "             1  2  3 \n",
            " 4  5  6  7  8  9 10 \n",
            "11 12 13 14 15 16 17 \n",
            "18 19 20 21 22 23 24 \n",
            "25 26 27 28 29 30 31 \n"
          ]
        }
      ]
    },
    {
      "cell_type": "markdown",
      "source": [
        "Q39. Build a program that simulates a basic text-based blackjack game against the computer.\n"
      ],
      "metadata": {
        "id": "13uLLNC9coXk"
      },
      "id": "13uLLNC9coXk"
    },
    {
      "cell_type": "code",
      "source": [
        "import random\n",
        "\n",
        "def generate_deck():\n",
        "    ranks = ['2', '3', '4', '5', '6', '7', '8', '9', '10', 'J', 'Q', 'K', 'A']\n",
        "    suits = ['Hearts', 'Diamonds', 'Clubs', 'Spades']\n",
        "    deck = [(rank, suit) for rank in ranks for suit in suits]\n",
        "    random.shuffle(deck)\n",
        "    return deck\n",
        "\n",
        "def calculate_hand_value(hand):\n",
        "    value = 0\n",
        "    num_aces = 0\n",
        "    for card in hand:\n",
        "        rank = card[0]\n",
        "        if rank in ['J', 'Q', 'K']:\n",
        "            value += 10\n",
        "        elif rank == 'A':\n",
        "            num_aces += 1\n",
        "        else:\n",
        "            value += int(rank)\n",
        "    value += num_aces * 11\n",
        "    while value > 21 and num_aces:\n",
        "        value -= 10\n",
        "        num_aces -= 1\n",
        "    return value\n",
        "\n",
        "def print_hand(hand, player_name):\n",
        "    print(f\"{player_name}'s hand:\")\n",
        "    for card in hand:\n",
        "        print(f\"{card[0]} of {card[1]}\")\n",
        "    print(f\"Total value: {calculate_hand_value(hand)}\")\n",
        "\n",
        "def play_blackjack():\n",
        "    player_hand = []\n",
        "    dealer_hand = []\n",
        "\n",
        "    deck = generate_deck()\n",
        "\n",
        "    # Deal initial cards\n",
        "    player_hand.append(deck.pop())\n",
        "    dealer_hand.append(deck.pop())\n",
        "    player_hand.append(deck.pop())\n",
        "    dealer_hand.append(deck.pop())\n",
        "\n",
        "    print_hand(player_hand, \"Player\")\n",
        "    print(f\"Dealer's face-up card: {dealer_hand[0][0]} of {dealer_hand[0][1]}\")\n",
        "\n",
        "    # Player's turn\n",
        "    while True:\n",
        "        action = input(\"Do you want to hit or stand? (h/s): \").lower()\n",
        "        if action == 'h':\n",
        "            player_hand.append(deck.pop())\n",
        "            print_hand(player_hand, \"Player\")\n",
        "            if calculate_hand_value(player_hand) > 21:\n",
        "                print(\"Bust! You lose.\")\n",
        "                return\n",
        "        elif action == 's':\n",
        "            break\n",
        "\n",
        "    # Dealer's turn\n",
        "    while calculate_hand_value(dealer_hand) < 17:\n",
        "        dealer_hand.append(deck.pop())\n",
        "    print_hand(dealer_hand, \"Dealer\")\n",
        "\n",
        "    # Determine winner\n",
        "    player_value = calculate_hand_value(player_hand)\n",
        "    dealer_value = calculate_hand_value(dealer_hand)\n",
        "    if player_value > 21:\n",
        "        print(\"Bust! You lose.\")\n",
        "    elif dealer_value > 21 or player_value > dealer_value:\n",
        "        print(\"You win!\")\n",
        "    elif player_value < dealer_value:\n",
        "        print(\"Dealer wins.\")\n",
        "    else:\n",
        "        print(\"It's a tie.\")\n",
        "\n",
        "if __name__ == \"__main__\":\n",
        "    play_blackjack()\n"
      ],
      "metadata": {
        "id": "3nF-e6GXfwFn",
        "outputId": "67ce6ca5-758a-4038-944b-1bfbaecb4d26",
        "colab": {
          "base_uri": "https://localhost:8080/"
        }
      },
      "id": "3nF-e6GXfwFn",
      "execution_count": 50,
      "outputs": [
        {
          "output_type": "stream",
          "name": "stdout",
          "text": [
            "Player's hand:\n",
            "10 of Diamonds\n",
            "8 of Spades\n",
            "Total value: 18\n",
            "Dealer's face-up card: 5 of Hearts\n",
            "Do you want to hit or stand? (h/s): h\n",
            "Player's hand:\n",
            "10 of Diamonds\n",
            "8 of Spades\n",
            "3 of Clubs\n",
            "Total value: 21\n",
            "Do you want to hit or stand? (h/s): s\n",
            "Dealer's hand:\n",
            "5 of Hearts\n",
            "8 of Diamonds\n",
            "9 of Spades\n",
            "Total value: 22\n",
            "You win!\n"
          ]
        }
      ]
    },
    {
      "cell_type": "markdown",
      "source": [
        "Q40. Write a program that generates the prime factors of a given number using trial division.\n",
        "\n"
      ],
      "metadata": {
        "id": "k25c2XH5cxqp"
      },
      "id": "k25c2XH5cxqp"
    },
    {
      "cell_type": "code",
      "source": [
        "def prime_factors(n):\n",
        "    factors = []\n",
        "    divisor = 2\n",
        "    while n > 1:\n",
        "        while n % divisor == 0:\n",
        "            factors.append(divisor)\n",
        "            n //= divisor\n",
        "        divisor += 1\n",
        "    return factors\n",
        "\n",
        "# Test the function\n",
        "number = int(input(\"Enter a number to find its prime factors: \"))\n",
        "factors = prime_factors(number)\n",
        "print(\"Prime factors of\", number, \"are:\", factors)\n"
      ],
      "metadata": {
        "id": "9-EbwyORf-T_",
        "outputId": "44a6a4e3-4b78-47c9-eed5-fb34fe52d5de",
        "colab": {
          "base_uri": "https://localhost:8080/"
        }
      },
      "id": "9-EbwyORf-T_",
      "execution_count": 51,
      "outputs": [
        {
          "output_type": "stream",
          "name": "stdout",
          "text": [
            "Enter a number to find its prime factors: 3\n",
            "Prime factors of 3 are: [3]\n"
          ]
        }
      ]
    }
  ],
  "metadata": {
    "kernelspec": {
      "display_name": "Python 3 (ipykernel)",
      "language": "python",
      "name": "python3"
    },
    "language_info": {
      "codemirror_mode": {
        "name": "ipython",
        "version": 3
      },
      "file_extension": ".py",
      "mimetype": "text/x-python",
      "name": "python",
      "nbconvert_exporter": "python",
      "pygments_lexer": "ipython3",
      "version": "3.11.7"
    },
    "colab": {
      "provenance": [],
      "collapsed_sections": [
        "07513b24-e66f-4ff9-b4ba-28e49696329a",
        "f1ee34f2-4337-410f-ae31-433cbe462c3c",
        "410bbc5a-cb66-4456-b074-7e1b1d2af6d9",
        "pbX2IITISrAt",
        "szfv1HWIVKBZ",
        "Maj8_yecZINp"
      ]
    }
  },
  "nbformat": 4,
  "nbformat_minor": 5
}